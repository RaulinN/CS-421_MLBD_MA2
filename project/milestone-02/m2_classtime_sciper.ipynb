{
  "cells": [
    {
      "cell_type": "markdown",
      "id": "8af48ca1-b6d1-4092-b7b5-037d3c2d7aef",
      "metadata": {
        "id": "8af48ca1-b6d1-4092-b7b5-037d3c2d7aef"
      },
      "source": [
        "# M2 | Exploration Notebook\n",
        "\n",
        "In this notebook, you will do a first exploration of the data set that you will use for your project. One part of this exploration is guided, i.e. we will ask you to solve specific questions (task 1-3). The other part is open, i.e. we will ask you to come up with your own exploration ideas (task 4). \n",
        "\n",
        "Please upload your solved notebook to Moodle (under Milestone 2 Submission)adding your SCIPER number in title, example: m2-lernnavi-456392.ipynb\n",
        "\n",
        "\n",
        "## Brief overview of Classtime\n",
        "[Classtime](https://www.classtime.com/en/) is a Swiss EdTech startup that complements in-class teaching with immediate feedback on students’ level of understanding. Teachers create ClassTime sessions for their class, where each session consists of *n* questions and a reflection in the end. Each student is tracked by a **participant_id**, which is unique within a session and in some cases can be tracked over sessions using the **social_user_id**. We have 5 data tables from this startup:\n",
        "- *sessions* (meta information about session format, teacher)\n",
        "- *questions* (all questions asked across sessions)\n",
        "- *answers* (each row represents a student answer to a question)\n",
        "- *reflection_questions* (4 reflection questions available to ask students)\n",
        "- *reflection_answers* (each row represents a student answer to a reflection questions)\n",
        "\n",
        "The *answers* table has been filtered to ~20% of the original dataset, only keeping participants who have also answered reflection questions. Similarly, the *questions* table has been filtered to only include questions where our subset of participants have answered. If you choose this dataset for the project, we will give you access to the full data later on.\n",
        "\n",
        "### sessions:\n",
        "- **id**: The unique identifier of a ClassTime session, also referred to in other tables as **session_id**.\n",
        "- **teacher_id**: The unique identifier of a teacher, who creates a Classtime session.\n",
        "- **title**: The title of the session. The default title is extracted from the Question Set title but the teacher can change it manually.\n",
        "- **participant_count**: N/A\n",
        "- **group**: N/A\n",
        "- **mode**: round-based = whole class goes through the session together, one question at the time, teacher gives the pace. flexible = teacher can still active/deactive questions but generally students can answer at their own pace.\n",
        "- **question_set_id**: Identifier of the question set that was used to create the session (not always populated). If this is the same for two sessions, it means the same questions were used for both.\n",
        "- **is_onboarding**: This session was automatically created by classtime when the teacher signed up to show him/her how classtime works and are not real sessions.\n",
        "- **feedback_mode**: per-question = solution is shown immediately after answering question, for each question. manual = solutions only shown when teacher triggers it\n",
        "- **is_one_attempt**: If  true, students cannot change their answers after submission (note that if students answer multiple times for the same question this will also show up in the answer dump as multiple rows).\n",
        "- **is_shuffle_choices**: For appropriate question types (i.e. multi-choice) randomly shuffle the options for each student. If False, show in order as it is defined in the question.\n",
        "- **is_shuffle_questions**: If true, randomly shuffle order of questions for each student, otherwise the same order is used for all students.\n",
        "- **is_partial_grading**: If true, ratings other than {0, question weight} are possible.\n",
        "- **platform_only**: If not empty (NaN), students need to identify themself (e.g. with their google account) to join the session. If NaN students can join with a nickname for the session and are not required to sign in.\n",
        "- **has_reflection**: If true, students can answer session reflection questions.\n",
        "- **force_reflection**: If true, teachers actively required students to answer session reflections.\n",
        "- **timer**: Number of seconds each student has to answer all questions, which starts after student joins session\n",
        "- **is_solo**: Self-learning session without teacher\n",
        "\n",
        "### questions:\n",
        "- **id**: The unique identifier of this question.\n",
        "- **session_id**: Session ID (see *sessions* table).\n",
        "- **library_question_id**: Also referred to as **question_id**, the library ID for this question. If it's the first time, a new library_question_id is created. If the same question is used over multiple sessions, they will have the same **library_question_id**.\n",
        "- **kind**: Type of question (i.e. choice, multiple, categorizer, cloze).\n",
        "- **title**: Title of question.\n",
        "- **content**: Raw JSON of question in the exact format available to the student.\n",
        "- **explanation**: Explanation of the correct answer choice, available at the instructor's discretion.\n",
        "- **provider**: N/A\n",
        "- **weight**: Maximum points available for this question.\n",
        "- **video**: If True, question includes a video.\n",
        "- **image**: If True, question includes an image.\n",
        "\n",
        "### answers:\n",
        "- **id**: The unique identifier of this specific answer attempt.\n",
        "- **participant_id**: Identifier of each student in a session.\n",
        "- **question_id**: Question ID (see *questions* table).\n",
        "- **session_id**: Session ID (see *sessions* table).\n",
        "- **is_correct**: True or False regarding question correctness.\n",
        "- **rating**: Number of points the student recieved for this response. The maximum this can be is **weight**.\n",
        "- **created_at**: Timestamp of answer response.\n",
        "- **social_user_id**: Authentication User ID that can be used to track participants across sessions. This is only available for students who sign in using an authentication platform.\n",
        "\n",
        "### reflection_questions:\n",
        "- **id**: The unique identifier of this reflection question. Referred to in *reflection_answers* as **reflection_question_id**.\n",
        "- **title**: Title of the reflection question.\n",
        "- **kind**: Type of reflection question (yesno or emoji).\n",
        "\n",
        "### reflection_answers:\n",
        "- **id**: The unique identifier of this reflection question response.\n",
        "- **participant_id**: The identifier of each student in a session.\n",
        "- **session_id**: Session ID (see *sessions* table).\n",
        "- **reflection_questions_id**: Reflection Question ID (see *reflection_questions* table).\n",
        "- **value**: student response to the reflection question (yes/no, happy/neutral/upset).\n",
        "\n",
        "The *questions* and *answers* tables can be joined using **session_id**, **participant_id** and **question_id**. Each teacher has a unique **teacher_id**. Participant responses can be tracked over a single session in the *answers* and *reflection_answers* tables using **participant_id**, and over sessions using **social_user_id**.\n"
      ]
    },
    {
      "cell_type": "code",
      "execution_count": null,
      "id": "82ea2d32-f0a9-4dc9-bb60-be43399f5b89",
      "metadata": {
        "id": "82ea2d32-f0a9-4dc9-bb60-be43399f5b89"
      },
      "outputs": [],
      "source": [
        "# Import the tables of the data set as dataframes.\n",
        "# Note that this cell will likely take ~10 minutes to run.\n",
        "\n",
        "import numpy as np\n",
        "import pandas as pd\n",
        "import matplotlib.pyplot as plt\n",
        "\n",
        "DATA_DIR = './data' #You many change the directory\n",
        "\n",
        "sessions = pd.read_csv('{}/classtime_sessions.csv.gz'.format(DATA_DIR))\n",
        "questions = pd.read_csv('{}/classtime_questions.csv.gz'.format(DATA_DIR))\n",
        "answers = pd.read_csv('{}/classtime_answers.csv.gz'.format(DATA_DIR), nrows=10000000)\n",
        "reflection_questions = pd.read_csv('{}/classtime_reflection_questions.csv.gz'.format(DATA_DIR))\n",
        "reflection_answers = pd.read_csv('{}/classtime_reflection_answers.csv.gz'.format(DATA_DIR))"
      ]
    },
    {
      "cell_type": "markdown",
      "id": "a77f62b0-1945-48f1-8f22-5f6ebda1db8e",
      "metadata": {
        "id": "a77f62b0-1945-48f1-8f22-5f6ebda1db8e"
      },
      "source": [
        "## Task 1: Simple Statistics\n",
        "\n",
        "In this task you are asked to do a first coarse exploration of the data set, using simple statistics and visualizations."
      ]
    },
    {
      "cell_type": "markdown",
      "id": "8d9ebc2b-c434-4320-95ae-540dba5ac649",
      "metadata": {
        "id": "8d9ebc2b-c434-4320-95ae-540dba5ac649"
      },
      "source": [
        "#### a) How many distinct sessions do we have in the data set? How many distinct participants do we have in the data set?"
      ]
    },
    {
      "cell_type": "code",
      "execution_count": null,
      "id": "34cefd0d-4f8a-4227-8fb4-f30521abf78d",
      "metadata": {
        "id": "34cefd0d-4f8a-4227-8fb4-f30521abf78d"
      },
      "outputs": [],
      "source": [
        "# Your code here"
      ]
    },
    {
      "cell_type": "markdown",
      "id": "fb5c98b1-b2dc-4dee-a7ae-21ec53877bda",
      "metadata": {
        "id": "fb5c98b1-b2dc-4dee-a7ae-21ec53877bda"
      },
      "source": [
        "#### b) What is the total number of questions (\"questions\") that each user has answered? Please provide a visualization and discuss the distribution."
      ]
    },
    {
      "cell_type": "code",
      "execution_count": null,
      "id": "a383a4ec-7c4f-4d25-96e4-81052d69fb38",
      "metadata": {
        "id": "a383a4ec-7c4f-4d25-96e4-81052d69fb38"
      },
      "outputs": [],
      "source": [
        "# Your code for computing the feature and the visualization here"
      ]
    },
    {
      "cell_type": "markdown",
      "id": "8f6cea7c-84d9-4de1-9043-4de2874bc15b",
      "metadata": {
        "id": "8f6cea7c-84d9-4de1-9043-4de2874bc15b"
      },
      "source": [
        "*Your discussion/interpretation goes here*"
      ]
    },
    {
      "cell_type": "markdown",
      "id": "313a0fb3-5de3-4cea-99f4-78ded2cfef68",
      "metadata": {
        "id": "313a0fb3-5de3-4cea-99f4-78ded2cfef68"
      },
      "source": [
        "#### c) How many different question types (\"kind\") do we have in the data set? How many distinct questions do we have for each question type? Please provide a visualization and discuss/interpret your results."
      ]
    },
    {
      "cell_type": "code",
      "execution_count": null,
      "id": "24082c57-ba3b-4ee3-9385-3758e9406940",
      "metadata": {
        "id": "24082c57-ba3b-4ee3-9385-3758e9406940"
      },
      "outputs": [],
      "source": [
        "# Your code for computing the feature and the visualization here"
      ]
    },
    {
      "cell_type": "markdown",
      "id": "a94e1864-8d99-47cb-954e-c8bcf044c98f",
      "metadata": {
        "id": "a94e1864-8d99-47cb-954e-c8bcf044c98f"
      },
      "source": [
        "*Your discussion/interpretation goes here*"
      ]
    },
    {
      "cell_type": "markdown",
      "id": "85633adb-d317-4ee3-bf06-e9f82f589c41",
      "metadata": {
        "id": "85633adb-d317-4ee3-bf06-e9f82f589c41"
      },
      "source": [
        "## Task 2: Static Analysis\n",
        "\n",
        "In this second task, you will do a univariate an multivariate exploration of some aggregated features."
      ]
    },
    {
      "cell_type": "markdown",
      "id": "dba86a2b-10b1-4a5e-8d20-ca3165c06ddf",
      "metadata": {
        "id": "dba86a2b-10b1-4a5e-8d20-ca3165c06ddf"
      },
      "source": [
        "#### a) Build a data frame containing one row per participant: \n",
        "``[participant_id, session_mode, num_questions, percentage_correct, num_reflections, feeling_of_learning]``\n",
        "\n",
        "The features are defined as follows:\n",
        "- **session_mode**: mode of the session the participant belongs to - round_based (class together) or flexible (participants work on their own)\n",
        "- **num_questions**: total number of questions the participant answered in this session\n",
        "- **percentage_correct**: percentage of correct answers (number of correct answers/total number of answers)\n",
        "- **feeling_of_learning**: how did the participant feel about their learning progress (happy, neutral, upset, not_answered)"
      ]
    },
    {
      "cell_type": "code",
      "execution_count": null,
      "id": "90b65ebd-c148-4ae8-833e-018411eeda86",
      "metadata": {
        "id": "90b65ebd-c148-4ae8-833e-018411eeda86"
      },
      "outputs": [],
      "source": [
        "# Your code for building the data frame here"
      ]
    },
    {
      "cell_type": "markdown",
      "id": "10cce7a7-ee4c-49f1-a461-5ba56eb9fdec",
      "metadata": {
        "id": "10cce7a7-ee4c-49f1-a461-5ba56eb9fdec"
      },
      "source": [
        "#### b) Perform a univariate analysis (including descriptive statistics and visualizations) for the five features (session_mode, num_questions, percentage_correct, num_reflections, feeling_of_learning) of your data frame. Please check the lecture slides regarding information on how to perform a univariate analysis for categorical and numerical features. Discuss your results: how are the features distributed? Are there any anomalities?"
      ]
    },
    {
      "cell_type": "code",
      "execution_count": null,
      "id": "14bde602-52b0-43c2-aaeb-1661424e9437",
      "metadata": {
        "id": "14bde602-52b0-43c2-aaeb-1661424e9437"
      },
      "outputs": [],
      "source": [
        "# Your code for univariate analysis here"
      ]
    },
    {
      "cell_type": "markdown",
      "id": "76d0fcca-686e-47a3-8567-c3f92db187d4",
      "metadata": {
        "id": "76d0fcca-686e-47a3-8567-c3f92db187d4"
      },
      "source": [
        "*Your discussion/interpretation goes here*"
      ]
    },
    {
      "cell_type": "markdown",
      "id": "b69e15ea-1354-482e-9264-836930a1e682",
      "metadata": {
        "id": "b69e15ea-1354-482e-9264-836930a1e682"
      },
      "source": [
        "#### c) Create one additional feature on your own and add it to the data frame. Please provide an explanation/description of your feature as well as an argument/hypothesis of why you think this feature is interesting to explore."
      ]
    },
    {
      "cell_type": "code",
      "execution_count": null,
      "id": "bc69c062-5e7f-4f60-810f-9f7bbac65c2a",
      "metadata": {
        "id": "bc69c062-5e7f-4f60-810f-9f7bbac65c2a"
      },
      "outputs": [],
      "source": [
        "# Your code for computing the feature and adding it to the data frame."
      ]
    },
    {
      "cell_type": "markdown",
      "id": "f973d7fa-92c3-42ad-9c00-b7571a42ab7f",
      "metadata": {
        "id": "f973d7fa-92c3-42ad-9c00-b7571a42ab7f"
      },
      "source": [
        "*Your feature description and argument/hypothesis goes here*"
      ]
    },
    {
      "cell_type": "markdown",
      "id": "3d2004bb-a14f-42a5-8730-ee28728f3941",
      "metadata": {
        "id": "3d2004bb-a14f-42a5-8730-ee28728f3941"
      },
      "source": [
        "#### d) Perform a univariate analysis of your feature (including descriptive statistics and visualization). What can you observe? Do the results confirm your hypothesis?"
      ]
    },
    {
      "cell_type": "code",
      "execution_count": null,
      "id": "43df0d17-6191-4b59-a7ee-e4de43499e5e",
      "metadata": {
        "id": "43df0d17-6191-4b59-a7ee-e4de43499e5e"
      },
      "outputs": [],
      "source": [
        "# Your code for univariate analysis goes here"
      ]
    },
    {
      "cell_type": "markdown",
      "id": "27aa2276-5805-4062-b4fb-84c27b1823e5",
      "metadata": {
        "id": "27aa2276-5805-4062-b4fb-84c27b1823e5"
      },
      "source": [
        "*Your discussion goes here*"
      ]
    },
    {
      "cell_type": "markdown",
      "id": "d1ac4fd3-b5ca-449d-bc7a-6b8c53949c05",
      "metadata": {
        "id": "d1ac4fd3-b5ca-449d-bc7a-6b8c53949c05"
      },
      "source": [
        "#### e) Perform a multivariate analysis for two pairs of features of your choice. Please provide a metric and a visualization for both pairs. Please discuss: why did you choose these two pairs? What was your hypothesis? Do the results confirm your hypothesis?"
      ]
    },
    {
      "cell_type": "code",
      "execution_count": null,
      "id": "15c92f70-c8cd-4554-ac27-128b52edb595",
      "metadata": {
        "id": "15c92f70-c8cd-4554-ac27-128b52edb595"
      },
      "outputs": [],
      "source": [
        "# Your code for univariate analysis goes here"
      ]
    },
    {
      "cell_type": "markdown",
      "id": "e3172147-cf17-40e4-b993-5898b13807d0",
      "metadata": {
        "id": "e3172147-cf17-40e4-b993-5898b13807d0"
      },
      "source": [
        "*Your discussion goes here*"
      ]
    },
    {
      "cell_type": "markdown",
      "id": "b3c9a655-cec9-4c57-aec7-7a982f57a3af",
      "metadata": {
        "id": "b3c9a655-cec9-4c57-aec7-7a982f57a3af"
      },
      "source": [
        "## Task 3: Time-Series Analysis\n",
        "In the last task, you will perform a time-series analysis."
      ]
    },
    {
      "cell_type": "markdown",
      "id": "7a30dcb4-1102-41a6-9c77-49c8ab66ea98",
      "metadata": {
        "id": "7a30dcb4-1102-41a6-9c77-49c8ab66ea98"
      },
      "source": [
        "#### a) Build a data frame that is structured as follows (by answered question):  \n",
        "``[answer, participant_id, session_mode, answer_correctness, answer_time, feeling_of_learning, your feature]``\n",
        "\n",
        "For each participant, limit the number of answered questions to 10 (i.e. include only the first 10 answers in the data frame)\n",
        "\n",
        "The features are defined as follows:\n",
        "- **session_mode**: mode of the session the participant belongs to - round_based (class together) or flexible (participants work on their own)\n",
        "- **answer_correctness**: is the answer correct?\n",
        "- **answer_time**: time in seconds to answer the question (i.e. time stamp of next answer - time stamp of this answer)\n",
        "- **feeling_of_learning**: how did the participant feel about their learning progress (happy, neutral, upset, not_answered)"
      ]
    },
    {
      "cell_type": "code",
      "execution_count": null,
      "id": "9f0d5fb9-73d5-41ff-b3f0-5cc24f6fe7cb",
      "metadata": {
        "id": "9f0d5fb9-73d5-41ff-b3f0-5cc24f6fe7cb"
      },
      "outputs": [],
      "source": [
        "# Your code for building the data frame goes here"
      ]
    },
    {
      "cell_type": "markdown",
      "id": "4b71fcd8-31ff-4a8d-9448-e90fda7c2ab9",
      "metadata": {
        "id": "4b71fcd8-31ff-4a8d-9448-e90fda7c2ab9"
      },
      "source": [
        "#### b) Select two features and analyze their behavior over time (aggregated over participants). Please provide a hypothesis and visualization for both features. For ideas on how to perform a time series exploration, please check the lecture slides and notebook. Discuss your results: what do you observe? Do the results confirm your hypotheses?"
      ]
    },
    {
      "cell_type": "code",
      "execution_count": null,
      "id": "a7b0b876-b1bb-4a06-ae92-0c5e91e9e75b",
      "metadata": {
        "id": "a7b0b876-b1bb-4a06-ae92-0c5e91e9e75b"
      },
      "outputs": [],
      "source": [
        "# Your code for the time series analyses of the features goes here"
      ]
    },
    {
      "cell_type": "markdown",
      "id": "41b8e8a8-2ca1-40f6-8df8-1390d667afab",
      "metadata": {
        "id": "41b8e8a8-2ca1-40f6-8df8-1390d667afab"
      },
      "source": [
        "*Your discussion goes here*"
      ]
    },
    {
      "cell_type": "markdown",
      "source": [
        "# Task 4: Creative extension \n",
        "\n",
        "Please provide **one** new hypothesis you would like to explore with the data and provide a visualization for it. Discuss your results: what do you observe? Do the results confirm your hypotheses?"
      ],
      "metadata": {
        "id": "gRLVCdxxgegK"
      },
      "id": "gRLVCdxxgegK"
    },
    {
      "cell_type": "code",
      "source": [
        "# Your creative visualization here"
      ],
      "metadata": {
        "id": "8uUlB3HAgcpd"
      },
      "id": "8uUlB3HAgcpd",
      "execution_count": null,
      "outputs": []
    },
    {
      "cell_type": "markdown",
      "source": [
        "*Your discussion goes here*"
      ],
      "metadata": {
        "id": "X0OEet_9ggYV"
      },
      "id": "X0OEet_9ggYV"
    }
  ],
  "metadata": {
    "kernelspec": {
      "display_name": "Python 3 (ipykernel)",
      "language": "python",
      "name": "python3"
    },
    "language_info": {
      "codemirror_mode": {
        "name": "ipython",
        "version": 3
      },
      "file_extension": ".py",
      "mimetype": "text/x-python",
      "name": "python",
      "nbconvert_exporter": "python",
      "pygments_lexer": "ipython3",
      "version": "3.9.7"
    },
    "colab": {
      "name": "m2-classtime-sciper.ipynb",
      "provenance": [],
      "collapsed_sections": []
    }
  },
  "nbformat": 4,
  "nbformat_minor": 5
}