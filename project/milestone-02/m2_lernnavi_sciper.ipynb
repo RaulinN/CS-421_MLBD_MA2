{
 "cells": [
  {
   "cell_type": "markdown",
   "id": "457a6a91-117e-41b3-be96-ffa6ac9d92e7",
   "metadata": {
    "id": "457a6a91-117e-41b3-be96-ffa6ac9d92e7"
   },
   "source": [
    "# M2 | Exploration Notebook\n",
    "\n",
    "In this notebook, you will do a first exploration of the data set that you will use for your project. One part of this exploration is guided, i.e. we will ask you to solve specific questions (task 1-3). The other part is open, i.e. we will ask you to come up with your own exploration ideas (task 4). \n",
    "\n",
    "Please upload your solved notebook to Moodle (under Milestone 2 Submission)adding your SCIPER number in title, example: m2-lernnavi-456392.ipynb\n",
    "\n",
    "\n",
    "## Brief overview of Lernnavi\n",
    "[Lernnavi](https://www.lernnavi.ch) is an instrument for promoting part of the basic technical study skills in German and mathematics.\n",
    "\n",
    "\n",
    "For the guided part of the exploration we will focus on the three main tables:\n",
    "* *users*: demographic information of users.\n",
    "* *events*: events done by the users in the platform.\n",
    "* *transactions*: question and answer solved by user.\n",
    "\n",
    "### Users\n",
    "* user_id: unique identifier of user in database.\n",
    "* gender: only three values: M male, F female or missing. \n",
    "* canton: swiss canton.\n",
    "* class_level: school year in swiss system.\n",
    "\n",
    "\n",
    "### Events\n",
    "* event_id: unique identifier of event in database.\n",
    "* user_id: user who peformed the event.\n",
    "* timestamp: timestamp of event.\n",
    "* category: classification of action (task, general, statistics, etc).\n",
    "* action: type of action performed.\n",
    "* event_type: whether the students viewed or clicked in the event.\n",
    "* transaction_token: used to link to transactions table.\n",
    "* session_id: session during which the event took place.\n",
    "* tracking_data: optional content associated to this event (e.g., the new points mastered for a topic).\n",
    "\n",
    "\n",
    "### Transactions\n",
    "* transaction_id: unique identifier of transaction in database.\n",
    "* transaction_token: used to link to events table.\n",
    "* user_id: user who performed the transaction.\n",
    "* document_id: document that was answered in transaction.\n",
    "* document_version: version of document that was answered.\n",
    "* evaluation: whether the user answered correctly or not. It is possible that it was only partially right. \n",
    "* input: answer the user gave.\n",
    "* start_time: timestamp of when the user started answering.\n",
    "* commit_time: timestamp of when the user submitted the answer.\n",
    "* user_agent: the browser that the user used.\n",
    "* validation: used to validate the format of the input.\n",
    "* solution: solution to question.\n",
    "* type: type of question that was answered. \n"
   ]
  },
  {
   "cell_type": "code",
   "execution_count": 496,
   "id": "2b10fd14-a60b-4de9-b217-bbaf68dac01c",
   "metadata": {
    "id": "2b10fd14-a60b-4de9-b217-bbaf68dac01c"
   },
   "outputs": [],
   "source": [
    "# Import the tables of the data set as dataframes.\n",
    "import numpy as np\n",
    "import pandas as pd\n",
    "import matplotlib.pyplot as plt\n",
    "\n",
    "DATA_DIR = './data' #You many change the directory\n",
    "\n",
    "users = pd.read_csv('{}/users.csv.gz'.format(DATA_DIR))\n",
    "events = pd.read_csv('{}/events.csv.gz'.format(DATA_DIR))\n",
    "transactions = pd.read_csv('{}/transactions.csv.gz'.format(DATA_DIR))"
   ]
  },
  {
   "cell_type": "code",
   "execution_count": 697,
   "id": "e4f23020-2c05-4332-88d4-c93ebc2e5d39",
   "metadata": {},
   "outputs": [],
   "source": [
    "import seaborn as sns\n",
    "from scipy import stats\n",
    "import datetime"
   ]
  },
  {
   "cell_type": "code",
   "execution_count": 729,
   "id": "875b9514-c1f9-457a-9894-bc3454230831",
   "metadata": {},
   "outputs": [],
   "source": [
    "pd.options.mode.chained_assignment = None  # default='warn'"
   ]
  },
  {
   "cell_type": "code",
   "execution_count": 497,
   "id": "856bc687-3bd9-45cf-923e-330b5f7fd192",
   "metadata": {},
   "outputs": [
    {
     "data": {
      "text/html": [
       "<div>\n",
       "<style scoped>\n",
       "    .dataframe tbody tr th:only-of-type {\n",
       "        vertical-align: middle;\n",
       "    }\n",
       "\n",
       "    .dataframe tbody tr th {\n",
       "        vertical-align: top;\n",
       "    }\n",
       "\n",
       "    .dataframe thead th {\n",
       "        text-align: right;\n",
       "    }\n",
       "</style>\n",
       "<table border=\"1\" class=\"dataframe\">\n",
       "  <thead>\n",
       "    <tr style=\"text-align: right;\">\n",
       "      <th></th>\n",
       "      <th>user_id</th>\n",
       "      <th>gender</th>\n",
       "      <th>canton</th>\n",
       "      <th>class_level</th>\n",
       "    </tr>\n",
       "  </thead>\n",
       "  <tbody>\n",
       "    <tr>\n",
       "      <th>0</th>\n",
       "      <td>387604</td>\n",
       "      <td>NaN</td>\n",
       "      <td>NaN</td>\n",
       "      <td>NaN</td>\n",
       "    </tr>\n",
       "    <tr>\n",
       "      <th>1</th>\n",
       "      <td>387605</td>\n",
       "      <td>NaN</td>\n",
       "      <td>NaN</td>\n",
       "      <td>NaN</td>\n",
       "    </tr>\n",
       "    <tr>\n",
       "      <th>2</th>\n",
       "      <td>387608</td>\n",
       "      <td>NaN</td>\n",
       "      <td>NaN</td>\n",
       "      <td>NaN</td>\n",
       "    </tr>\n",
       "    <tr>\n",
       "      <th>3</th>\n",
       "      <td>387615</td>\n",
       "      <td>MALE</td>\n",
       "      <td>SG</td>\n",
       "      <td>Gymnasium - 3. Jahr</td>\n",
       "    </tr>\n",
       "    <tr>\n",
       "      <th>4</th>\n",
       "      <td>387643</td>\n",
       "      <td>NaN</td>\n",
       "      <td>NaN</td>\n",
       "      <td>NaN</td>\n",
       "    </tr>\n",
       "  </tbody>\n",
       "</table>\n",
       "</div>"
      ],
      "text/plain": [
       "   user_id gender canton          class_level\n",
       "0   387604    NaN    NaN                  NaN\n",
       "1   387605    NaN    NaN                  NaN\n",
       "2   387608    NaN    NaN                  NaN\n",
       "3   387615   MALE     SG  Gymnasium - 3. Jahr\n",
       "4   387643    NaN    NaN                  NaN"
      ]
     },
     "execution_count": 497,
     "metadata": {},
     "output_type": "execute_result"
    }
   ],
   "source": [
    "users.head()"
   ]
  },
  {
   "cell_type": "markdown",
   "id": "d066e248-eddf-4604-814a-6aeaa86482e0",
   "metadata": {},
   "source": [
    "Let's look at the gender column and what values it takes"
   ]
  },
  {
   "cell_type": "code",
   "execution_count": 498,
   "id": "beb137d9-8252-404f-a9c9-37181f75764a",
   "metadata": {},
   "outputs": [
    {
     "data": {
      "text/plain": [
       "array([nan, 'MALE', 'FEMALE', 'STAR'], dtype=object)"
      ]
     },
     "execution_count": 498,
     "metadata": {},
     "output_type": "execute_result"
    }
   ],
   "source": [
    "users.gender.unique()"
   ]
  },
  {
   "cell_type": "code",
   "execution_count": 499,
   "id": "261d9e3e-f8ff-429f-ac74-4442fc2eec46",
   "metadata": {},
   "outputs": [
    {
     "data": {
      "text/plain": [
       "0.033880978459291715"
      ]
     },
     "execution_count": 499,
     "metadata": {},
     "output_type": "execute_result"
    }
   ],
   "source": [
    "users[users.gender == 'STAR'].shape[0] / users.shape[0]"
   ]
  },
  {
   "cell_type": "markdown",
   "id": "a7a8121c-a41a-4bc5-a150-ffaac602acdf",
   "metadata": {},
   "source": [
    "Considering the handout clearly says that there are \"only three values: M male, F female or missing\", I decided to clean the data and swap 'STAR' (gender neutral) to `NaN`"
   ]
  },
  {
   "cell_type": "code",
   "execution_count": 500,
   "id": "6956c765-c287-4ab8-a29d-971868749112",
   "metadata": {},
   "outputs": [
    {
     "data": {
      "text/plain": [
       "array([nan, 'MALE', 'FEMALE'], dtype=object)"
      ]
     },
     "execution_count": 500,
     "metadata": {},
     "output_type": "execute_result"
    }
   ],
   "source": [
    "users.gender = users.gender.apply(lambda g: np.nan if g == 'STAR' else g)\n",
    "users.gender.unique()"
   ]
  },
  {
   "cell_type": "markdown",
   "id": "1c2501f5-9dd9-4136-b8ef-a06df8365b7b",
   "metadata": {},
   "source": [
    "---"
   ]
  },
  {
   "cell_type": "code",
   "execution_count": 502,
   "id": "22b50ff2-b6aa-465c-b841-ce0b4b135c49",
   "metadata": {},
   "outputs": [
    {
     "data": {
      "text/html": [
       "<div>\n",
       "<style scoped>\n",
       "    .dataframe tbody tr th:only-of-type {\n",
       "        vertical-align: middle;\n",
       "    }\n",
       "\n",
       "    .dataframe tbody tr th {\n",
       "        vertical-align: top;\n",
       "    }\n",
       "\n",
       "    .dataframe thead th {\n",
       "        text-align: right;\n",
       "    }\n",
       "</style>\n",
       "<table border=\"1\" class=\"dataframe\">\n",
       "  <thead>\n",
       "    <tr style=\"text-align: right;\">\n",
       "      <th></th>\n",
       "      <th>event_id</th>\n",
       "      <th>user_id</th>\n",
       "      <th>timestamp</th>\n",
       "      <th>category</th>\n",
       "      <th>action</th>\n",
       "      <th>event_type</th>\n",
       "      <th>transaction_token</th>\n",
       "      <th>session_id</th>\n",
       "      <th>tracking_data</th>\n",
       "    </tr>\n",
       "  </thead>\n",
       "  <tbody>\n",
       "    <tr>\n",
       "      <th>0</th>\n",
       "      <td>62</td>\n",
       "      <td>393211</td>\n",
       "      <td>1621583814885</td>\n",
       "      <td>TASK</td>\n",
       "      <td>VIEW_QUESTION</td>\n",
       "      <td>VIEW</td>\n",
       "      <td>7a10ca52-ffb5-4069-8800-0dc86d778e94</td>\n",
       "      <td>NaN</td>\n",
       "      <td>NaN</td>\n",
       "    </tr>\n",
       "    <tr>\n",
       "      <th>1</th>\n",
       "      <td>63</td>\n",
       "      <td>393211</td>\n",
       "      <td>1621583898912</td>\n",
       "      <td>TASK</td>\n",
       "      <td>SUBMIT_ANSWER</td>\n",
       "      <td>CLICK</td>\n",
       "      <td>7a10ca52-ffb5-4069-8800-0dc86d778e94</td>\n",
       "      <td>NaN</td>\n",
       "      <td>NaN</td>\n",
       "    </tr>\n",
       "    <tr>\n",
       "      <th>2</th>\n",
       "      <td>64</td>\n",
       "      <td>393211</td>\n",
       "      <td>1621583907207</td>\n",
       "      <td>TASK</td>\n",
       "      <td>NEXT</td>\n",
       "      <td>CLICK</td>\n",
       "      <td>7a10ca52-ffb5-4069-8800-0dc86d778e94</td>\n",
       "      <td>NaN</td>\n",
       "      <td>NaN</td>\n",
       "    </tr>\n",
       "    <tr>\n",
       "      <th>3</th>\n",
       "      <td>65</td>\n",
       "      <td>393211</td>\n",
       "      <td>1621583907589</td>\n",
       "      <td>TASK</td>\n",
       "      <td>VIEW_QUESTION</td>\n",
       "      <td>VIEW</td>\n",
       "      <td>88fdcaad-f73b-46a2-b561-d262f2441442</td>\n",
       "      <td>NaN</td>\n",
       "      <td>NaN</td>\n",
       "    </tr>\n",
       "    <tr>\n",
       "      <th>4</th>\n",
       "      <td>66</td>\n",
       "      <td>393211</td>\n",
       "      <td>1621584222588</td>\n",
       "      <td>TASK</td>\n",
       "      <td>SUBMIT_ANSWER</td>\n",
       "      <td>CLICK</td>\n",
       "      <td>88fdcaad-f73b-46a2-b561-d262f2441442</td>\n",
       "      <td>NaN</td>\n",
       "      <td>NaN</td>\n",
       "    </tr>\n",
       "  </tbody>\n",
       "</table>\n",
       "</div>"
      ],
      "text/plain": [
       "   event_id  user_id      timestamp category         action event_type  \\\n",
       "0        62   393211  1621583814885     TASK  VIEW_QUESTION       VIEW   \n",
       "1        63   393211  1621583898912     TASK  SUBMIT_ANSWER      CLICK   \n",
       "2        64   393211  1621583907207     TASK           NEXT      CLICK   \n",
       "3        65   393211  1621583907589     TASK  VIEW_QUESTION       VIEW   \n",
       "4        66   393211  1621584222588     TASK  SUBMIT_ANSWER      CLICK   \n",
       "\n",
       "                      transaction_token  session_id tracking_data  \n",
       "0  7a10ca52-ffb5-4069-8800-0dc86d778e94         NaN           NaN  \n",
       "1  7a10ca52-ffb5-4069-8800-0dc86d778e94         NaN           NaN  \n",
       "2  7a10ca52-ffb5-4069-8800-0dc86d778e94         NaN           NaN  \n",
       "3  88fdcaad-f73b-46a2-b561-d262f2441442         NaN           NaN  \n",
       "4  88fdcaad-f73b-46a2-b561-d262f2441442         NaN           NaN  "
      ]
     },
     "execution_count": 502,
     "metadata": {},
     "output_type": "execute_result"
    }
   ],
   "source": [
    "events.head()"
   ]
  },
  {
   "cell_type": "markdown",
   "id": "f1af78f9-9cf5-4622-920e-fc44ce049c72",
   "metadata": {},
   "source": [
    "---"
   ]
  },
  {
   "cell_type": "code",
   "execution_count": 503,
   "id": "5bd4d683-8495-4e6b-9738-bba8dfa4dacf",
   "metadata": {},
   "outputs": [
    {
     "data": {
      "text/html": [
       "<div>\n",
       "<style scoped>\n",
       "    .dataframe tbody tr th:only-of-type {\n",
       "        vertical-align: middle;\n",
       "    }\n",
       "\n",
       "    .dataframe tbody tr th {\n",
       "        vertical-align: top;\n",
       "    }\n",
       "\n",
       "    .dataframe thead th {\n",
       "        text-align: right;\n",
       "    }\n",
       "</style>\n",
       "<table border=\"1\" class=\"dataframe\">\n",
       "  <thead>\n",
       "    <tr style=\"text-align: right;\">\n",
       "      <th></th>\n",
       "      <th>transaction_id</th>\n",
       "      <th>transaction_token</th>\n",
       "      <th>user_id</th>\n",
       "      <th>document_id</th>\n",
       "      <th>document_version</th>\n",
       "      <th>evaluation</th>\n",
       "      <th>input</th>\n",
       "      <th>start_time</th>\n",
       "      <th>commit_time</th>\n",
       "      <th>user_agent</th>\n",
       "      <th>validation</th>\n",
       "      <th>solution</th>\n",
       "      <th>type</th>\n",
       "    </tr>\n",
       "  </thead>\n",
       "  <tbody>\n",
       "    <tr>\n",
       "      <th>0</th>\n",
       "      <td>1061991</td>\n",
       "      <td>cf99b0d7-279a-4ae0-8ef3-a15514e350b6</td>\n",
       "      <td>387604.0</td>\n",
       "      <td>111K3PY6sbr8ac1mRGpse1</td>\n",
       "      <td>87668</td>\n",
       "      <td>NaN</td>\n",
       "      <td>NaN</td>\n",
       "      <td>1637146446763</td>\n",
       "      <td>NaN</td>\n",
       "      <td>Mozilla/5.0 (Windows NT 10.0; Win64; x64) Appl...</td>\n",
       "      <td>NaN</td>\n",
       "      <td>NaN</td>\n",
       "      <td>NaN</td>\n",
       "    </tr>\n",
       "  </tbody>\n",
       "</table>\n",
       "</div>"
      ],
      "text/plain": [
       "   transaction_id                     transaction_token   user_id  \\\n",
       "0         1061991  cf99b0d7-279a-4ae0-8ef3-a15514e350b6  387604.0   \n",
       "\n",
       "              document_id  document_version evaluation input     start_time  \\\n",
       "0  111K3PY6sbr8ac1mRGpse1             87668        NaN   NaN  1637146446763   \n",
       "\n",
       "   commit_time                                         user_agent validation  \\\n",
       "0          NaN  Mozilla/5.0 (Windows NT 10.0; Win64; x64) Appl...        NaN   \n",
       "\n",
       "  solution type  \n",
       "0      NaN  NaN  "
      ]
     },
     "execution_count": 503,
     "metadata": {},
     "output_type": "execute_result"
    }
   ],
   "source": [
    "transactions.head(1)"
   ]
  },
  {
   "cell_type": "markdown",
   "id": "37e6a2f0-fb8b-43b2-88cc-3766688f33f3",
   "metadata": {},
   "source": [
    "Interestingly, the `user_id` column in `transactions` contains non-integer values whereas ids are made of integers virtually everytime. Let's see if the decimal value is indeed necessary or pointless. In the latter, we might as well modify the type of `user_id` so that there is no possible comparaison issue with `user_id` from the User table (which is an integer)"
   ]
  },
  {
   "cell_type": "markdown",
   "id": "978222c5-e77e-40e5-9766-e4f20cbeef80",
   "metadata": {},
   "source": [
    "I will start by checking if *all* `user_id`s in the transaction table are indeed integers. The `is_uid_int` Series maps each `user_id` to:\n",
    "- `True` iff the id (which is a float value) is in fact an integer (i.e. ends with \".0\") represented as a float\n",
    "- `False` otherwise"
   ]
  },
  {
   "cell_type": "code",
   "execution_count": 504,
   "id": "303e6f62-4471-4795-bb7e-2629512e43ca",
   "metadata": {},
   "outputs": [],
   "source": [
    "is_uid_int = transactions['user_id'].apply(lambda uid: uid.is_integer())"
   ]
  },
  {
   "cell_type": "markdown",
   "id": "d1819449-feed-45fc-8638-9240ae80ee35",
   "metadata": {},
   "source": [
    "Then, I'll count the number of non-integer ids by inverting the array and counting the number of `True` values"
   ]
  },
  {
   "cell_type": "code",
   "execution_count": 505,
   "id": "d87306d4-7768-4eb0-b303-1c4009566b88",
   "metadata": {},
   "outputs": [
    {
     "data": {
      "text/plain": [
       "0"
      ]
     },
     "execution_count": 505,
     "metadata": {},
     "output_type": "execute_result"
    }
   ],
   "source": [
    "(~is_uid_int).sum()"
   ]
  },
  {
   "cell_type": "markdown",
   "id": "b0773eb7-3b32-4441-ae6c-228170ce99da",
   "metadata": {},
   "source": [
    "I deduce that the conversion is safe!"
   ]
  },
  {
   "cell_type": "code",
   "execution_count": 506,
   "id": "9875355f-335b-49e2-9f83-cdb35a4d1a2a",
   "metadata": {},
   "outputs": [
    {
     "data": {
      "text/html": [
       "<div>\n",
       "<style scoped>\n",
       "    .dataframe tbody tr th:only-of-type {\n",
       "        vertical-align: middle;\n",
       "    }\n",
       "\n",
       "    .dataframe tbody tr th {\n",
       "        vertical-align: top;\n",
       "    }\n",
       "\n",
       "    .dataframe thead th {\n",
       "        text-align: right;\n",
       "    }\n",
       "</style>\n",
       "<table border=\"1\" class=\"dataframe\">\n",
       "  <thead>\n",
       "    <tr style=\"text-align: right;\">\n",
       "      <th></th>\n",
       "      <th>transaction_id</th>\n",
       "      <th>transaction_token</th>\n",
       "      <th>user_id</th>\n",
       "      <th>document_id</th>\n",
       "      <th>document_version</th>\n",
       "      <th>evaluation</th>\n",
       "      <th>input</th>\n",
       "      <th>start_time</th>\n",
       "      <th>commit_time</th>\n",
       "      <th>user_agent</th>\n",
       "      <th>validation</th>\n",
       "      <th>solution</th>\n",
       "      <th>type</th>\n",
       "    </tr>\n",
       "  </thead>\n",
       "  <tbody>\n",
       "    <tr>\n",
       "      <th>0</th>\n",
       "      <td>1061991</td>\n",
       "      <td>cf99b0d7-279a-4ae0-8ef3-a15514e350b6</td>\n",
       "      <td>387604</td>\n",
       "      <td>111K3PY6sbr8ac1mRGpse1</td>\n",
       "      <td>87668</td>\n",
       "      <td>NaN</td>\n",
       "      <td>NaN</td>\n",
       "      <td>1637146446763</td>\n",
       "      <td>NaN</td>\n",
       "      <td>Mozilla/5.0 (Windows NT 10.0; Win64; x64) Appl...</td>\n",
       "      <td>NaN</td>\n",
       "      <td>NaN</td>\n",
       "      <td>NaN</td>\n",
       "    </tr>\n",
       "    <tr>\n",
       "      <th>1</th>\n",
       "      <td>1066631</td>\n",
       "      <td>13e3086b-1c4e-4d28-87a3-0582ccf495c6</td>\n",
       "      <td>387604</td>\n",
       "      <td>111K3PY6sbr8ac1mRGpse1</td>\n",
       "      <td>87668</td>\n",
       "      <td>NaN</td>\n",
       "      <td>NaN</td>\n",
       "      <td>1637233737283</td>\n",
       "      <td>NaN</td>\n",
       "      <td>Mozilla/5.0 (Windows NT 10.0; Win64; x64) Appl...</td>\n",
       "      <td>NaN</td>\n",
       "      <td>NaN</td>\n",
       "      <td>NaN</td>\n",
       "    </tr>\n",
       "    <tr>\n",
       "      <th>2</th>\n",
       "      <td>1011975</td>\n",
       "      <td>6f292166-86bd-4ec9-81e8-22e9033d571e</td>\n",
       "      <td>387604</td>\n",
       "      <td>111K3PY6sbr8ac1mRGpse1</td>\n",
       "      <td>87668</td>\n",
       "      <td>CORRECT</td>\n",
       "      <td>{\"type\": \"MULTIPLE_CHOICE\", \"selections\": {\"0\"...</td>\n",
       "      <td>1636444658255</td>\n",
       "      <td>1.636445e+12</td>\n",
       "      <td>NaN</td>\n",
       "      <td>PASS</td>\n",
       "      <td>{\"type\": \"MULTIPLE_CHOICE\", \"choices\": [{\"cont...</td>\n",
       "      <td>MULTIPLE_CHOICE</td>\n",
       "    </tr>\n",
       "    <tr>\n",
       "      <th>3</th>\n",
       "      <td>1020790</td>\n",
       "      <td>79a7d731-a36b-4529-a11b-108b9f877a04</td>\n",
       "      <td>387604</td>\n",
       "      <td>111K3PY6sbr8ac1mRGpse1</td>\n",
       "      <td>87668</td>\n",
       "      <td>CORRECT</td>\n",
       "      <td>{\"type\": \"MULTIPLE_CHOICE\", \"selections\": {\"0\"...</td>\n",
       "      <td>1636561847705</td>\n",
       "      <td>1.636562e+12</td>\n",
       "      <td>NaN</td>\n",
       "      <td>PASS</td>\n",
       "      <td>{\"type\": \"MULTIPLE_CHOICE\", \"choices\": [{\"cont...</td>\n",
       "      <td>MULTIPLE_CHOICE</td>\n",
       "    </tr>\n",
       "    <tr>\n",
       "      <th>4</th>\n",
       "      <td>1061970</td>\n",
       "      <td>a45b6464-371e-47f4-842c-34f9e345b4ec</td>\n",
       "      <td>387604</td>\n",
       "      <td>111K3PY6sbr8ac1mRGpse1</td>\n",
       "      <td>87668</td>\n",
       "      <td>CORRECT</td>\n",
       "      <td>{\"type\": \"MULTIPLE_CHOICE\", \"selections\": {\"0\"...</td>\n",
       "      <td>1637146373965</td>\n",
       "      <td>1.637146e+12</td>\n",
       "      <td>NaN</td>\n",
       "      <td>PASS</td>\n",
       "      <td>{\"type\": \"MULTIPLE_CHOICE\", \"choices\": [{\"cont...</td>\n",
       "      <td>MULTIPLE_CHOICE</td>\n",
       "    </tr>\n",
       "  </tbody>\n",
       "</table>\n",
       "</div>"
      ],
      "text/plain": [
       "   transaction_id                     transaction_token  user_id  \\\n",
       "0         1061991  cf99b0d7-279a-4ae0-8ef3-a15514e350b6   387604   \n",
       "1         1066631  13e3086b-1c4e-4d28-87a3-0582ccf495c6   387604   \n",
       "2         1011975  6f292166-86bd-4ec9-81e8-22e9033d571e   387604   \n",
       "3         1020790  79a7d731-a36b-4529-a11b-108b9f877a04   387604   \n",
       "4         1061970  a45b6464-371e-47f4-842c-34f9e345b4ec   387604   \n",
       "\n",
       "              document_id  document_version evaluation  \\\n",
       "0  111K3PY6sbr8ac1mRGpse1             87668        NaN   \n",
       "1  111K3PY6sbr8ac1mRGpse1             87668        NaN   \n",
       "2  111K3PY6sbr8ac1mRGpse1             87668    CORRECT   \n",
       "3  111K3PY6sbr8ac1mRGpse1             87668    CORRECT   \n",
       "4  111K3PY6sbr8ac1mRGpse1             87668    CORRECT   \n",
       "\n",
       "                                               input     start_time  \\\n",
       "0                                                NaN  1637146446763   \n",
       "1                                                NaN  1637233737283   \n",
       "2  {\"type\": \"MULTIPLE_CHOICE\", \"selections\": {\"0\"...  1636444658255   \n",
       "3  {\"type\": \"MULTIPLE_CHOICE\", \"selections\": {\"0\"...  1636561847705   \n",
       "4  {\"type\": \"MULTIPLE_CHOICE\", \"selections\": {\"0\"...  1637146373965   \n",
       "\n",
       "    commit_time                                         user_agent validation  \\\n",
       "0           NaN  Mozilla/5.0 (Windows NT 10.0; Win64; x64) Appl...        NaN   \n",
       "1           NaN  Mozilla/5.0 (Windows NT 10.0; Win64; x64) Appl...        NaN   \n",
       "2  1.636445e+12                                                NaN       PASS   \n",
       "3  1.636562e+12                                                NaN       PASS   \n",
       "4  1.637146e+12                                                NaN       PASS   \n",
       "\n",
       "                                            solution             type  \n",
       "0                                                NaN              NaN  \n",
       "1                                                NaN              NaN  \n",
       "2  {\"type\": \"MULTIPLE_CHOICE\", \"choices\": [{\"cont...  MULTIPLE_CHOICE  \n",
       "3  {\"type\": \"MULTIPLE_CHOICE\", \"choices\": [{\"cont...  MULTIPLE_CHOICE  \n",
       "4  {\"type\": \"MULTIPLE_CHOICE\", \"choices\": [{\"cont...  MULTIPLE_CHOICE  "
      ]
     },
     "execution_count": 506,
     "metadata": {},
     "output_type": "execute_result"
    }
   ],
   "source": [
    "transactions = transactions.astype({'user_id': 'int64'})\n",
    "transactions.head()"
   ]
  },
  {
   "cell_type": "markdown",
   "id": "75b4f5fc-4526-4c00-8045-393cd36a2de6",
   "metadata": {
    "id": "75b4f5fc-4526-4c00-8045-393cd36a2de6"
   },
   "source": [
    "## Task 1: Simple Statistics\n",
    "\n",
    "In this task you are asked to do a first coarse exploration of the data set, using simple statistics and visualizations."
   ]
  },
  {
   "cell_type": "markdown",
   "id": "811d42c0-6f94-436e-b2da-232363fedace",
   "metadata": {
    "id": "811d42c0-6f94-436e-b2da-232363fedace"
   },
   "source": [
    "#### a) How many distinct participants do we have in the data set?\n"
   ]
  },
  {
   "cell_type": "code",
   "execution_count": 507,
   "id": "3935e6ea-982b-4d88-81c1-406f6d8040e8",
   "metadata": {
    "id": "3935e6ea-982b-4d88-81c1-406f6d8040e8"
   },
   "outputs": [
    {
     "data": {
      "text/plain": [
       "13695"
      ]
     },
     "execution_count": 507,
     "metadata": {},
     "output_type": "execute_result"
    }
   ],
   "source": [
    "users['user_id'].nunique()"
   ]
  },
  {
   "cell_type": "markdown",
   "id": "afa67951-aed8-4709-a935-9918d80ede84",
   "metadata": {
    "id": "afa67951-aed8-4709-a935-9918d80ede84"
   },
   "source": [
    "#### b) How many transactions were done per user? Please provide a visualization and discuss the distribution."
   ]
  },
  {
   "cell_type": "code",
   "execution_count": 508,
   "id": "adefdeef-23d3-4feb-9c6f-6a3dd441acf2",
   "metadata": {
    "id": "adefdeef-23d3-4feb-9c6f-6a3dd441acf2"
   },
   "outputs": [
    {
     "data": {
      "text/html": [
       "<div>\n",
       "<style scoped>\n",
       "    .dataframe tbody tr th:only-of-type {\n",
       "        vertical-align: middle;\n",
       "    }\n",
       "\n",
       "    .dataframe tbody tr th {\n",
       "        vertical-align: top;\n",
       "    }\n",
       "\n",
       "    .dataframe thead th {\n",
       "        text-align: right;\n",
       "    }\n",
       "</style>\n",
       "<table border=\"1\" class=\"dataframe\">\n",
       "  <thead>\n",
       "    <tr style=\"text-align: right;\">\n",
       "      <th></th>\n",
       "      <th>transaction_count</th>\n",
       "    </tr>\n",
       "    <tr>\n",
       "      <th>user_id</th>\n",
       "      <th></th>\n",
       "    </tr>\n",
       "  </thead>\n",
       "  <tbody>\n",
       "    <tr>\n",
       "      <th>387604</th>\n",
       "      <td>257</td>\n",
       "    </tr>\n",
       "    <tr>\n",
       "      <th>387605</th>\n",
       "      <td>871</td>\n",
       "    </tr>\n",
       "    <tr>\n",
       "      <th>387608</th>\n",
       "      <td>294</td>\n",
       "    </tr>\n",
       "    <tr>\n",
       "      <th>387615</th>\n",
       "      <td>270</td>\n",
       "    </tr>\n",
       "    <tr>\n",
       "      <th>387643</th>\n",
       "      <td>27</td>\n",
       "    </tr>\n",
       "  </tbody>\n",
       "</table>\n",
       "</div>"
      ],
      "text/plain": [
       "         transaction_count\n",
       "user_id                   \n",
       "387604                 257\n",
       "387605                 871\n",
       "387608                 294\n",
       "387615                 270\n",
       "387643                  27"
      ]
     },
     "execution_count": 508,
     "metadata": {},
     "output_type": "execute_result"
    }
   ],
   "source": [
    "transactions_per_user = transactions[['user_id']].copy()\n",
    "transactions_per_user['transaction_count'] = 1\n",
    "transactions_per_user = transactions_per_user.groupby('user_id').agg('sum')[['transaction_count']]\n",
    "transactions_per_user.head()"
   ]
  },
  {
   "cell_type": "code",
   "execution_count": 509,
   "id": "7768d782-8378-4e56-b602-1e3c0683dcbe",
   "metadata": {},
   "outputs": [
    {
     "data": {
      "text/html": [
       "<div>\n",
       "<style scoped>\n",
       "    .dataframe tbody tr th:only-of-type {\n",
       "        vertical-align: middle;\n",
       "    }\n",
       "\n",
       "    .dataframe tbody tr th {\n",
       "        vertical-align: top;\n",
       "    }\n",
       "\n",
       "    .dataframe thead th {\n",
       "        text-align: right;\n",
       "    }\n",
       "</style>\n",
       "<table border=\"1\" class=\"dataframe\">\n",
       "  <thead>\n",
       "    <tr style=\"text-align: right;\">\n",
       "      <th></th>\n",
       "      <th>user_id</th>\n",
       "      <th>gender</th>\n",
       "      <th>canton</th>\n",
       "      <th>class_level</th>\n",
       "      <th>transaction_count</th>\n",
       "    </tr>\n",
       "  </thead>\n",
       "  <tbody>\n",
       "    <tr>\n",
       "      <th>0</th>\n",
       "      <td>387604</td>\n",
       "      <td>NaN</td>\n",
       "      <td>NaN</td>\n",
       "      <td>NaN</td>\n",
       "      <td>257</td>\n",
       "    </tr>\n",
       "    <tr>\n",
       "      <th>1</th>\n",
       "      <td>387605</td>\n",
       "      <td>NaN</td>\n",
       "      <td>NaN</td>\n",
       "      <td>NaN</td>\n",
       "      <td>871</td>\n",
       "    </tr>\n",
       "    <tr>\n",
       "      <th>2</th>\n",
       "      <td>387608</td>\n",
       "      <td>NaN</td>\n",
       "      <td>NaN</td>\n",
       "      <td>NaN</td>\n",
       "      <td>294</td>\n",
       "    </tr>\n",
       "    <tr>\n",
       "      <th>3</th>\n",
       "      <td>387615</td>\n",
       "      <td>MALE</td>\n",
       "      <td>SG</td>\n",
       "      <td>Gymnasium - 3. Jahr</td>\n",
       "      <td>270</td>\n",
       "    </tr>\n",
       "    <tr>\n",
       "      <th>4</th>\n",
       "      <td>387643</td>\n",
       "      <td>NaN</td>\n",
       "      <td>NaN</td>\n",
       "      <td>NaN</td>\n",
       "      <td>27</td>\n",
       "    </tr>\n",
       "  </tbody>\n",
       "</table>\n",
       "</div>"
      ],
      "text/plain": [
       "   user_id gender canton          class_level  transaction_count\n",
       "0   387604    NaN    NaN                  NaN                257\n",
       "1   387605    NaN    NaN                  NaN                871\n",
       "2   387608    NaN    NaN                  NaN                294\n",
       "3   387615   MALE     SG  Gymnasium - 3. Jahr                270\n",
       "4   387643    NaN    NaN                  NaN                 27"
      ]
     },
     "execution_count": 509,
     "metadata": {},
     "output_type": "execute_result"
    }
   ],
   "source": [
    "users_with_trans = users.join(transactions_per_user, on = 'user_id')\n",
    "users_with_trans['transaction_count'] = users_with_trans['transaction_count'].fillna(0)\n",
    "users_with_trans = users_with_trans.astype({'transaction_count': 'int64'})\n",
    "users_with_trans.head()"
   ]
  },
  {
   "cell_type": "code",
   "execution_count": 671,
   "id": "3baba859-31f2-4cd0-ba1a-0af0d80a1c0e",
   "metadata": {},
   "outputs": [
    {
     "data": {
      "text/plain": [
       "array([[<AxesSubplot:title={'center':'transaction_count'}>]], dtype=object)"
      ]
     },
     "execution_count": 671,
     "metadata": {},
     "output_type": "execute_result"
    },
    {
     "data": {
      "image/png": "[encoded data removed]",
      "text/plain": [
       "<Figure size 432x288 with 1 Axes>"
      ]
     },
     "metadata": {
      "needs_background": "light"
     },
     "output_type": "display_data"
    },
    {
     "data": {
      "image/png": "[encoded data removed]",
      "text/plain": [
       "<Figure size 432x288 with 1 Axes>"
      ]
     },
     "metadata": {
      "needs_background": "light"
     },
     "output_type": "display_data"
    }
   ],
   "source": [
    "users_with_trans.hist(column = 'transaction_count', bins=100)\n",
    "users_with_trans.hist(column = 'transaction_count', log=True, bins=100)"
   ]
  },
  {
   "cell_type": "markdown",
   "id": "8ef9fc23-ec4e-44e7-a492-abc35eb8a09f",
   "metadata": {},
   "source": [
    "We are looking at a power law. Most of the people do very few transactions, and very few people do lot of transactions"
   ]
  },
  {
   "cell_type": "markdown",
   "id": "b14fea28-8507-497d-9990-9eb2fefd18c0",
   "metadata": {
    "id": "b14fea28-8507-497d-9990-9eb2fefd18c0"
   },
   "source": [
    "#### c) Which are the 10 most popular event actions? Please provide a visualization of the frequency of the top 10 event actions.\n",
    "\n",
    "Hint: See actions in table events."
   ]
  },
  {
   "cell_type": "code",
   "execution_count": 511,
   "id": "e991ecba",
   "metadata": {
    "id": "e991ecba"
   },
   "outputs": [
    {
     "data": {
      "text/html": [
       "<div>\n",
       "<style scoped>\n",
       "    .dataframe tbody tr th:only-of-type {\n",
       "        vertical-align: middle;\n",
       "    }\n",
       "\n",
       "    .dataframe tbody tr th {\n",
       "        vertical-align: top;\n",
       "    }\n",
       "\n",
       "    .dataframe thead th {\n",
       "        text-align: right;\n",
       "    }\n",
       "</style>\n",
       "<table border=\"1\" class=\"dataframe\">\n",
       "  <thead>\n",
       "    <tr style=\"text-align: right;\">\n",
       "      <th></th>\n",
       "      <th>action_count</th>\n",
       "    </tr>\n",
       "    <tr>\n",
       "      <th>action</th>\n",
       "      <th></th>\n",
       "    </tr>\n",
       "  </thead>\n",
       "  <tbody>\n",
       "    <tr>\n",
       "      <th>PAGE_VISIT</th>\n",
       "      <td>653725</td>\n",
       "    </tr>\n",
       "    <tr>\n",
       "      <th>REVIEW_TASK</th>\n",
       "      <td>513389</td>\n",
       "    </tr>\n",
       "    <tr>\n",
       "      <th>SUBMIT_ANSWER</th>\n",
       "      <td>419862</td>\n",
       "    </tr>\n",
       "    <tr>\n",
       "      <th>NAVIGATE_DASHBOARD</th>\n",
       "      <td>350821</td>\n",
       "    </tr>\n",
       "    <tr>\n",
       "      <th>NEXT</th>\n",
       "      <td>277020</td>\n",
       "    </tr>\n",
       "    <tr>\n",
       "      <th>WINDOW_VISIBLE_FALSE</th>\n",
       "      <td>240660</td>\n",
       "    </tr>\n",
       "    <tr>\n",
       "      <th>WINDOW_VISIBLE_TRUE</th>\n",
       "      <td>199287</td>\n",
       "    </tr>\n",
       "    <tr>\n",
       "      <th>VIEW_QUESTION</th>\n",
       "      <td>154592</td>\n",
       "    </tr>\n",
       "    <tr>\n",
       "      <th>OPEN_FEEDBACK</th>\n",
       "      <td>87071</td>\n",
       "    </tr>\n",
       "    <tr>\n",
       "      <th>GO_TO_THEORY</th>\n",
       "      <td>80746</td>\n",
       "    </tr>\n",
       "  </tbody>\n",
       "</table>\n",
       "</div>"
      ],
      "text/plain": [
       "                      action_count\n",
       "action                            \n",
       "PAGE_VISIT                  653725\n",
       "REVIEW_TASK                 513389\n",
       "SUBMIT_ANSWER               419862\n",
       "NAVIGATE_DASHBOARD          350821\n",
       "NEXT                        277020\n",
       "WINDOW_VISIBLE_FALSE        240660\n",
       "WINDOW_VISIBLE_TRUE         199287\n",
       "VIEW_QUESTION               154592\n",
       "OPEN_FEEDBACK                87071\n",
       "GO_TO_THEORY                 80746"
      ]
     },
     "execution_count": 511,
     "metadata": {},
     "output_type": "execute_result"
    }
   ],
   "source": [
    "top_actions = events.groupby('action').agg('count')[['event_id']]\n",
    "top_actions = top_actions.rename(columns = {\"event_id\": \"action_count\"})\n",
    "top_actions = top_actions.sort_values(by = 'action_count', ascending = False)\n",
    "top_actions = top_actions[:10]\n",
    "top_actions"
   ]
  },
  {
   "cell_type": "code",
   "execution_count": 512,
   "id": "6f656124-25aa-4835-860f-b56220b6a36c",
   "metadata": {},
   "outputs": [
    {
     "data": {
      "text/plain": [
       "<AxesSubplot:title={'center':'Proportion of the 10 most popular event actions'}, ylabel='action_count'>"
      ]
     },
     "execution_count": 512,
     "metadata": {},
     "output_type": "execute_result"
    },
    {
     "data": {
      "image/png": "[encoded data removed]",
      "text/plain": [
       "<Figure size 1152x864 with 1 Axes>"
      ]
     },
     "metadata": {},
     "output_type": "display_data"
    }
   ],
   "source": [
    "top_actions.plot.pie(\n",
    "    y='action_count', figsize = (16, 12), autopct='%1.1f%%', shadow=True,\n",
    "    title='Proportion of the 10 most popular event actions',\n",
    "    explode=(0.1,) + (0,) * 9\n",
    ")"
   ]
  },
  {
   "cell_type": "markdown",
   "id": "0e7818a8-e4bc-499c-8683-28b7045e59a2",
   "metadata": {
    "id": "0e7818a8-e4bc-499c-8683-28b7045e59a2"
   },
   "source": [
    "The three actions `PAGE_VISIT`, `REVIEW_TASK`, and `SUBMIT_ANSWER` account for more than half of all the actions!"
   ]
  },
  {
   "cell_type": "markdown",
   "id": "55dd2ced-e567-4b23-8795-cce5132cfdad",
   "metadata": {
    "id": "55dd2ced-e567-4b23-8795-cce5132cfdad"
   },
   "source": [
    "## Task 2: Static Analysis\n",
    "\n",
    "In this second task, you will do a univariate an multivariate exploration of some aggregated features."
   ]
  },
  {
   "cell_type": "markdown",
   "id": "c6278746-ebab-45e7-8312-36f6cc1d4e36",
   "metadata": {
    "id": "c6278746-ebab-45e7-8312-36f6cc1d4e36"
   },
   "source": [
    "#### a) Build a data frame containing one row per user:\n",
    "\n",
    "``[user_id, gender, num_events, num_questions, percentage_correct, num_reading]``\n",
    "\n",
    "\n",
    "The features are defined as follows:\n",
    "\n",
    "- **num_questions**: total number of questions the student answered (hint: action event = submit answer)\n",
    "\n",
    "- **num_events**: total number of events of the student  \n",
    "\n",
    "- **percentage_correct**: number of correct answers/total number of answers (hint: evaluation = correct). If desired, you may assign a weight of 0.5 to partially correct answers. \n",
    "\n",
    "- **num_reading**: total number of theory reading events  (hint: action event = go to theory)"
   ]
  },
  {
   "cell_type": "code",
   "execution_count": 513,
   "id": "316c1b11-0c51-4535-972e-c692eb74b152",
   "metadata": {},
   "outputs": [],
   "source": [
    "num_questions = events[events.action == 'SUBMIT_ANSWER'][['user_id']].copy()\n",
    "num_questions['num_questions'] = 1\n",
    "num_questions = num_questions.groupby('user_id').agg('sum')"
   ]
  },
  {
   "cell_type": "code",
   "execution_count": 514,
   "id": "119d4656-4d5c-4b44-ad8f-d535734c98f5",
   "metadata": {},
   "outputs": [],
   "source": [
    "num_events = events[['user_id']].copy()\n",
    "num_events['num_events'] = 1\n",
    "num_events = num_events.groupby('user_id').agg('sum')"
   ]
  },
  {
   "cell_type": "code",
   "execution_count": 515,
   "id": "c8f60e45-9b1e-467f-a3bb-de52c576e48d",
   "metadata": {},
   "outputs": [],
   "source": [
    "percentage_correct = events[events.action == 'SUBMIT_ANSWER'][['user_id', 'transaction_token']].copy()\n",
    "percentage_correct = percentage_correct.drop_duplicates()\n",
    "percentage_correct = percentage_correct.join(\n",
    "    transactions[['transaction_token', 'evaluation']].copy().set_index('transaction_token'), \n",
    "    on = 'transaction_token'\n",
    ")"
   ]
  },
  {
   "cell_type": "code",
   "execution_count": 516,
   "id": "1b665da6-7afa-4adb-8c43-7ab51f6efca8",
   "metadata": {},
   "outputs": [
    {
     "data": {
      "text/html": [
       "<div>\n",
       "<style scoped>\n",
       "    .dataframe tbody tr th:only-of-type {\n",
       "        vertical-align: middle;\n",
       "    }\n",
       "\n",
       "    .dataframe tbody tr th {\n",
       "        vertical-align: top;\n",
       "    }\n",
       "\n",
       "    .dataframe thead th {\n",
       "        text-align: right;\n",
       "    }\n",
       "</style>\n",
       "<table border=\"1\" class=\"dataframe\">\n",
       "  <thead>\n",
       "    <tr style=\"text-align: right;\">\n",
       "      <th></th>\n",
       "      <th>user_id</th>\n",
       "      <th>transaction_token</th>\n",
       "      <th>evaluation</th>\n",
       "    </tr>\n",
       "  </thead>\n",
       "  <tbody>\n",
       "    <tr>\n",
       "      <th>1</th>\n",
       "      <td>393211</td>\n",
       "      <td>7a10ca52-ffb5-4069-8800-0dc86d778e94</td>\n",
       "      <td>NaN</td>\n",
       "    </tr>\n",
       "    <tr>\n",
       "      <th>4</th>\n",
       "      <td>393211</td>\n",
       "      <td>88fdcaad-f73b-46a2-b561-d262f2441442</td>\n",
       "      <td>NaN</td>\n",
       "    </tr>\n",
       "    <tr>\n",
       "      <th>9</th>\n",
       "      <td>393211</td>\n",
       "      <td>a75eb7b4-b2c2-47d4-9200-27980c175037</td>\n",
       "      <td>NaN</td>\n",
       "    </tr>\n",
       "    <tr>\n",
       "      <th>14</th>\n",
       "      <td>393211</td>\n",
       "      <td>61eb829d-bdda-4107-86af-ad9a14a7bdc9</td>\n",
       "      <td>NaN</td>\n",
       "    </tr>\n",
       "    <tr>\n",
       "      <th>17</th>\n",
       "      <td>393211</td>\n",
       "      <td>30ff0d8a-865d-460b-9177-b698a52b0d5c</td>\n",
       "      <td>NaN</td>\n",
       "    </tr>\n",
       "    <tr>\n",
       "      <th>...</th>\n",
       "      <td>...</td>\n",
       "      <td>...</td>\n",
       "      <td>...</td>\n",
       "    </tr>\n",
       "    <tr>\n",
       "      <th>3465529</th>\n",
       "      <td>404540</td>\n",
       "      <td>87832f2d-af7b-41f2-8321-953473f1d0fa</td>\n",
       "      <td>WRONG</td>\n",
       "    </tr>\n",
       "    <tr>\n",
       "      <th>3465532</th>\n",
       "      <td>404556</td>\n",
       "      <td>dd8cd76c-0a95-4b4e-9693-e0cb4d43bd25</td>\n",
       "      <td>WRONG</td>\n",
       "    </tr>\n",
       "    <tr>\n",
       "      <th>3465540</th>\n",
       "      <td>404550</td>\n",
       "      <td>8b1b72d5-551c-49fe-a4e8-a268a2956909</td>\n",
       "      <td>CORRECT</td>\n",
       "    </tr>\n",
       "    <tr>\n",
       "      <th>3465554</th>\n",
       "      <td>404560</td>\n",
       "      <td>9edfed2d-ebe8-4b0e-873c-9ba13e6541b3</td>\n",
       "      <td>CORRECT</td>\n",
       "    </tr>\n",
       "    <tr>\n",
       "      <th>3465558</th>\n",
       "      <td>404551</td>\n",
       "      <td>a9f626bc-184f-4e35-a466-110f26d042c4</td>\n",
       "      <td>WRONG</td>\n",
       "    </tr>\n",
       "  </tbody>\n",
       "</table>\n",
       "<p>415250 rows × 3 columns</p>\n",
       "</div>"
      ],
      "text/plain": [
       "         user_id                     transaction_token evaluation\n",
       "1         393211  7a10ca52-ffb5-4069-8800-0dc86d778e94        NaN\n",
       "4         393211  88fdcaad-f73b-46a2-b561-d262f2441442        NaN\n",
       "9         393211  a75eb7b4-b2c2-47d4-9200-27980c175037        NaN\n",
       "14        393211  61eb829d-bdda-4107-86af-ad9a14a7bdc9        NaN\n",
       "17        393211  30ff0d8a-865d-460b-9177-b698a52b0d5c        NaN\n",
       "...          ...                                   ...        ...\n",
       "3465529   404540  87832f2d-af7b-41f2-8321-953473f1d0fa      WRONG\n",
       "3465532   404556  dd8cd76c-0a95-4b4e-9693-e0cb4d43bd25      WRONG\n",
       "3465540   404550  8b1b72d5-551c-49fe-a4e8-a268a2956909    CORRECT\n",
       "3465554   404560  9edfed2d-ebe8-4b0e-873c-9ba13e6541b3    CORRECT\n",
       "3465558   404551  a9f626bc-184f-4e35-a466-110f26d042c4      WRONG\n",
       "\n",
       "[415250 rows x 3 columns]"
      ]
     },
     "execution_count": 516,
     "metadata": {},
     "output_type": "execute_result"
    }
   ],
   "source": [
    "percentage_correct"
   ]
  },
  {
   "cell_type": "code",
   "execution_count": 517,
   "id": "886ce230-a0b2-4f80-b56c-92b2ad270b3d",
   "metadata": {},
   "outputs": [],
   "source": [
    "def evaluation_to_points(e):\n",
    "    if e == 'CORRECT':\n",
    "        return 1.0\n",
    "    elif e == 'PARTIAL':\n",
    "        return 0.5\n",
    "    else:\n",
    "        return 0.0\n",
    "\n",
    "percentage_correct['evaluation_points'] = percentage_correct['evaluation'].apply(lambda e: evaluation_to_points(e))"
   ]
  },
  {
   "cell_type": "markdown",
   "id": "a87a885b-4e7c-49d4-b0b2-c9cdc83379b8",
   "metadata": {},
   "source": [
    ":information_source: note that I decided to grade as follows:\n",
    "- 1 point for correct answers (`CORRECT`)\n",
    "- 0.5 point for partially correct answers (`PARTIAL`)\n",
    "- 0 point for wrong answers (`WRONG`)\n",
    "- 0 point for missing evaluation (`nan`)"
   ]
  },
  {
   "cell_type": "code",
   "execution_count": 518,
   "id": "a6796673-dc7f-42e0-a90a-295a78c83fe6",
   "metadata": {},
   "outputs": [],
   "source": [
    "percentage_correct['evaluation_count'] = 1.0"
   ]
  },
  {
   "cell_type": "markdown",
   "id": "0a6770a3-060b-460c-b3dc-8bc0b65e9026",
   "metadata": {},
   "source": [
    "The lowest possible value of `evalution_count` in the aggregated `evaluation_per_user` dataframe is $1.0$ (see line above). This corresponds to a student that answered only a single question. We thus cannot run into divisions by 0"
   ]
  },
  {
   "cell_type": "code",
   "execution_count": 519,
   "id": "2b267019-003d-4195-9be0-6478fc15d347",
   "metadata": {},
   "outputs": [
    {
     "data": {
      "text/html": [
       "<div>\n",
       "<style scoped>\n",
       "    .dataframe tbody tr th:only-of-type {\n",
       "        vertical-align: middle;\n",
       "    }\n",
       "\n",
       "    .dataframe tbody tr th {\n",
       "        vertical-align: top;\n",
       "    }\n",
       "\n",
       "    .dataframe thead th {\n",
       "        text-align: right;\n",
       "    }\n",
       "</style>\n",
       "<table border=\"1\" class=\"dataframe\">\n",
       "  <thead>\n",
       "    <tr style=\"text-align: right;\">\n",
       "      <th></th>\n",
       "      <th>evaluation_points</th>\n",
       "      <th>evaluation_count</th>\n",
       "      <th>percentage_correct</th>\n",
       "    </tr>\n",
       "    <tr>\n",
       "      <th>user_id</th>\n",
       "      <th></th>\n",
       "      <th></th>\n",
       "      <th></th>\n",
       "    </tr>\n",
       "  </thead>\n",
       "  <tbody>\n",
       "    <tr>\n",
       "      <th>387604</th>\n",
       "      <td>52.0</td>\n",
       "      <td>97.0</td>\n",
       "      <td>0.536082</td>\n",
       "    </tr>\n",
       "    <tr>\n",
       "      <th>387605</th>\n",
       "      <td>119.0</td>\n",
       "      <td>217.0</td>\n",
       "      <td>0.548387</td>\n",
       "    </tr>\n",
       "    <tr>\n",
       "      <th>387608</th>\n",
       "      <td>46.0</td>\n",
       "      <td>54.0</td>\n",
       "      <td>0.851852</td>\n",
       "    </tr>\n",
       "    <tr>\n",
       "      <th>387615</th>\n",
       "      <td>12.5</td>\n",
       "      <td>15.0</td>\n",
       "      <td>0.833333</td>\n",
       "    </tr>\n",
       "    <tr>\n",
       "      <th>387644</th>\n",
       "      <td>23.5</td>\n",
       "      <td>30.0</td>\n",
       "      <td>0.783333</td>\n",
       "    </tr>\n",
       "  </tbody>\n",
       "</table>\n",
       "</div>"
      ],
      "text/plain": [
       "         evaluation_points  evaluation_count  percentage_correct\n",
       "user_id                                                         \n",
       "387604                52.0              97.0            0.536082\n",
       "387605               119.0             217.0            0.548387\n",
       "387608                46.0              54.0            0.851852\n",
       "387615                12.5              15.0            0.833333\n",
       "387644                23.5              30.0            0.783333"
      ]
     },
     "execution_count": 519,
     "metadata": {},
     "output_type": "execute_result"
    }
   ],
   "source": [
    "evaluation_per_user = percentage_correct.groupby('user_id').agg('sum')\n",
    "evaluation_per_user['percentage_correct'] = evaluation_per_user['evaluation_points'] / evaluation_per_user['evaluation_count']\n",
    "evaluation_per_user.head()"
   ]
  },
  {
   "cell_type": "code",
   "execution_count": 520,
   "id": "396e7035-66e2-4654-a5cf-515405c0cbba",
   "metadata": {},
   "outputs": [],
   "source": [
    "num_reading = events[events.action == 'GO_TO_SESSION'][['user_id']].copy()\n",
    "num_reading['num_reading'] = 1\n",
    "num_reading = num_reading.groupby('user_id').agg('sum')"
   ]
  },
  {
   "cell_type": "markdown",
   "id": "ff125bc8-4b61-4b80-b9ee-02a051e296a0",
   "metadata": {},
   "source": [
    "Now that we computed all the columns, let's put everything together!"
   ]
  },
  {
   "cell_type": "code",
   "execution_count": 521,
   "id": "1c410b04-ba69-4df0-bacd-43fab8a9a06e",
   "metadata": {},
   "outputs": [
    {
     "data": {
      "text/html": [
       "<div>\n",
       "<style scoped>\n",
       "    .dataframe tbody tr th:only-of-type {\n",
       "        vertical-align: middle;\n",
       "    }\n",
       "\n",
       "    .dataframe tbody tr th {\n",
       "        vertical-align: top;\n",
       "    }\n",
       "\n",
       "    .dataframe thead th {\n",
       "        text-align: right;\n",
       "    }\n",
       "</style>\n",
       "<table border=\"1\" class=\"dataframe\">\n",
       "  <thead>\n",
       "    <tr style=\"text-align: right;\">\n",
       "      <th></th>\n",
       "      <th>gender</th>\n",
       "      <th>num_questions</th>\n",
       "      <th>num_events</th>\n",
       "      <th>percentage_correct</th>\n",
       "      <th>num_reading</th>\n",
       "    </tr>\n",
       "    <tr>\n",
       "      <th>user_id</th>\n",
       "      <th></th>\n",
       "      <th></th>\n",
       "      <th></th>\n",
       "      <th></th>\n",
       "      <th></th>\n",
       "    </tr>\n",
       "  </thead>\n",
       "  <tbody>\n",
       "    <tr>\n",
       "      <th>387604</th>\n",
       "      <td>NaN</td>\n",
       "      <td>97.0</td>\n",
       "      <td>2606.0</td>\n",
       "      <td>0.536082</td>\n",
       "      <td>NaN</td>\n",
       "    </tr>\n",
       "    <tr>\n",
       "      <th>387605</th>\n",
       "      <td>NaN</td>\n",
       "      <td>217.0</td>\n",
       "      <td>3331.0</td>\n",
       "      <td>0.548387</td>\n",
       "      <td>1.0</td>\n",
       "    </tr>\n",
       "    <tr>\n",
       "      <th>387608</th>\n",
       "      <td>NaN</td>\n",
       "      <td>54.0</td>\n",
       "      <td>866.0</td>\n",
       "      <td>0.851852</td>\n",
       "      <td>NaN</td>\n",
       "    </tr>\n",
       "    <tr>\n",
       "      <th>387615</th>\n",
       "      <td>MALE</td>\n",
       "      <td>15.0</td>\n",
       "      <td>492.0</td>\n",
       "      <td>0.833333</td>\n",
       "      <td>NaN</td>\n",
       "    </tr>\n",
       "    <tr>\n",
       "      <th>387643</th>\n",
       "      <td>NaN</td>\n",
       "      <td>NaN</td>\n",
       "      <td>4.0</td>\n",
       "      <td>NaN</td>\n",
       "      <td>NaN</td>\n",
       "    </tr>\n",
       "  </tbody>\n",
       "</table>\n",
       "</div>"
      ],
      "text/plain": [
       "        gender  num_questions  num_events  percentage_correct  num_reading\n",
       "user_id                                                                   \n",
       "387604     NaN           97.0      2606.0            0.536082          NaN\n",
       "387605     NaN          217.0      3331.0            0.548387          1.0\n",
       "387608     NaN           54.0       866.0            0.851852          NaN\n",
       "387615    MALE           15.0       492.0            0.833333          NaN\n",
       "387643     NaN            NaN         4.0                 NaN          NaN"
      ]
     },
     "execution_count": 521,
     "metadata": {},
     "output_type": "execute_result"
    }
   ],
   "source": [
    "users_agg = users[['user_id', 'gender']].copy()\n",
    "users_agg = users_agg.set_index('user_id')\n",
    "\n",
    "users_agg = users_agg.join(num_questions, on = 'user_id')\n",
    "users_agg = users_agg.join(num_events, on = 'user_id')\n",
    "users_agg = users_agg.join(evaluation_per_user[['percentage_correct']], on = 'user_id')\n",
    "users_agg = users_agg.join(num_reading, on = 'user_id')\n",
    "\n",
    "users_agg.head()"
   ]
  },
  {
   "cell_type": "markdown",
   "id": "c7648e7d-45ff-40ef-8fc9-ccfba1ba7229",
   "metadata": {
    "id": "c7648e7d-45ff-40ef-8fc9-ccfba1ba7229"
   },
   "source": [
    "b) Perform a univariate analysis (including descriptive statistics and visualizations) for the five features (gender, num_events, num_questions, percentage_correct, num_reading) of your dataframe. Please check the lecture slides regarding information on how to perform a univariate analysis for categorical and numerical features. Discuss your results: how are the features distributed? Are there any anomalities?"
   ]
  },
  {
   "cell_type": "code",
   "execution_count": 522,
   "id": "e1d63e93-976a-4585-9675-8b0c3c7661d9",
   "metadata": {
    "id": "e1d63e93-976a-4585-9675-8b0c3c7661d9"
   },
   "outputs": [
    {
     "data": {
      "text/html": [
       "<div>\n",
       "<style scoped>\n",
       "    .dataframe tbody tr th:only-of-type {\n",
       "        vertical-align: middle;\n",
       "    }\n",
       "\n",
       "    .dataframe tbody tr th {\n",
       "        vertical-align: top;\n",
       "    }\n",
       "\n",
       "    .dataframe thead th {\n",
       "        text-align: right;\n",
       "    }\n",
       "</style>\n",
       "<table border=\"1\" class=\"dataframe\">\n",
       "  <thead>\n",
       "    <tr style=\"text-align: right;\">\n",
       "      <th></th>\n",
       "      <th>num_questions</th>\n",
       "      <th>num_events</th>\n",
       "      <th>percentage_correct</th>\n",
       "      <th>num_reading</th>\n",
       "    </tr>\n",
       "  </thead>\n",
       "  <tbody>\n",
       "    <tr>\n",
       "      <th>count</th>\n",
       "      <td>9046.000000</td>\n",
       "      <td>10113.000000</td>\n",
       "      <td>9046.000000</td>\n",
       "      <td>97.000000</td>\n",
       "    </tr>\n",
       "    <tr>\n",
       "      <th>mean</th>\n",
       "      <td>46.414106</td>\n",
       "      <td>342.683576</td>\n",
       "      <td>0.566094</td>\n",
       "      <td>1.876289</td>\n",
       "    </tr>\n",
       "    <tr>\n",
       "      <th>std</th>\n",
       "      <td>79.436277</td>\n",
       "      <td>577.384662</td>\n",
       "      <td>0.269834</td>\n",
       "      <td>1.522455</td>\n",
       "    </tr>\n",
       "    <tr>\n",
       "      <th>min</th>\n",
       "      <td>1.000000</td>\n",
       "      <td>1.000000</td>\n",
       "      <td>0.000000</td>\n",
       "      <td>1.000000</td>\n",
       "    </tr>\n",
       "    <tr>\n",
       "      <th>25%</th>\n",
       "      <td>10.000000</td>\n",
       "      <td>79.000000</td>\n",
       "      <td>0.500000</td>\n",
       "      <td>1.000000</td>\n",
       "    </tr>\n",
       "    <tr>\n",
       "      <th>50%</th>\n",
       "      <td>23.000000</td>\n",
       "      <td>173.000000</td>\n",
       "      <td>0.641841</td>\n",
       "      <td>1.000000</td>\n",
       "    </tr>\n",
       "    <tr>\n",
       "      <th>75%</th>\n",
       "      <td>50.000000</td>\n",
       "      <td>365.000000</td>\n",
       "      <td>0.733333</td>\n",
       "      <td>2.000000</td>\n",
       "    </tr>\n",
       "    <tr>\n",
       "      <th>max</th>\n",
       "      <td>1054.000000</td>\n",
       "      <td>10044.000000</td>\n",
       "      <td>1.000000</td>\n",
       "      <td>10.000000</td>\n",
       "    </tr>\n",
       "  </tbody>\n",
       "</table>\n",
       "</div>"
      ],
      "text/plain": [
       "       num_questions    num_events  percentage_correct  num_reading\n",
       "count    9046.000000  10113.000000         9046.000000    97.000000\n",
       "mean       46.414106    342.683576            0.566094     1.876289\n",
       "std        79.436277    577.384662            0.269834     1.522455\n",
       "min         1.000000      1.000000            0.000000     1.000000\n",
       "25%        10.000000     79.000000            0.500000     1.000000\n",
       "50%        23.000000    173.000000            0.641841     1.000000\n",
       "75%        50.000000    365.000000            0.733333     2.000000\n",
       "max      1054.000000  10044.000000            1.000000    10.000000"
      ]
     },
     "execution_count": 522,
     "metadata": {},
     "output_type": "execute_result"
    }
   ],
   "source": [
    "users_agg.describe()"
   ]
  },
  {
   "cell_type": "markdown",
   "id": "9c8e590e-a383-4b45-a87c-24bb34ea5840",
   "metadata": {},
   "source": [
    "Let's first look at the gender distribution ignoring the values marked as `nan`"
   ]
  },
  {
   "cell_type": "code",
   "execution_count": 564,
   "id": "0a0cb7b2-b3ce-4278-95fc-57a4ddd7e6d8",
   "metadata": {},
   "outputs": [
    {
     "name": "stdout",
     "output_type": "stream",
     "text": [
      "Percentage of females :\t 60.04%\n",
      "Percentage of males :\t 39.96%\n"
     ]
    },
    {
     "data": {
      "image/png": "[encoded data removed]",
      "text/plain": [
       "<Figure size 432x288 with 1 Axes>"
      ]
     },
     "metadata": {
      "needs_background": "light"
     },
     "output_type": "display_data"
    }
   ],
   "source": [
    "q_all = users_agg[users_agg.gender == 'MALE'].shape[0] + users_agg[users_agg.gender == 'FEMALE'].shape[0]\n",
    "q_males = users_agg[users_agg.gender == 'MALE'].shape[0] / q_all\n",
    "\n",
    "print(f'Percentage of females :\\t {(1 - q_males) * 100:.2f}%')\n",
    "print(f'Percentage of males :\\t {q_males * 100:.2f}%')\n",
    "\n",
    "ax = sns.countplot(x = 'gender', data = users_agg)"
   ]
  },
  {
   "cell_type": "code",
   "execution_count": 545,
   "id": "99af7643-fda3-4e94-8558-8c2fc14365bb",
   "metadata": {},
   "outputs": [
    {
     "data": {
      "image/png": "[encoded data removed]",
      "text/plain": [
       "<Figure size 432x288 with 1 Axes>"
      ]
     },
     "metadata": {
      "needs_background": "light"
     },
     "output_type": "display_data"
    }
   ],
   "source": [
    "ax = sns.histplot(data = users_agg, x = 'num_questions', kde = True, log_scale=True)"
   ]
  },
  {
   "cell_type": "code",
   "execution_count": 566,
   "id": "b2faef69-c91c-4fcf-a246-d878ec28ef41",
   "metadata": {},
   "outputs": [
    {
     "data": {
      "image/png": "[encoded data removed]",
      "text/plain": [
       "<Figure size 432x288 with 1 Axes>"
      ]
     },
     "metadata": {
      "needs_background": "light"
     },
     "output_type": "display_data"
    }
   ],
   "source": [
    "ax = sns.histplot(data = users_agg, x = 'num_events', kde = True, log_scale=True)"
   ]
  },
  {
   "cell_type": "code",
   "execution_count": 581,
   "id": "87d92a64-9bb3-4ed7-a10d-689d15311941",
   "metadata": {},
   "outputs": [
    {
     "name": "stdout",
     "output_type": "stream",
     "text": [
      "There is a total of 13695 recorded scores\n",
      "There is a total of 7458 recorded scores that are neither 0% nor 100%\n"
     ]
    },
    {
     "data": {
      "image/png": "[encoded data removed]",
      "text/plain": [
       "<Figure size 432x288 with 1 Axes>"
      ]
     },
     "metadata": {
      "needs_background": "light"
     },
     "output_type": "display_data"
    }
   ],
   "source": [
    "print(f'There is a total of {users_agg.shape[0]} recorded scores')\n",
    "\n",
    "users_agg_normal_score = users_agg[users_agg.percentage_correct > 0]\n",
    "users_agg_normal_score = users_agg_normal_score[users_agg_normal_score.percentage_correct < 1]\n",
    "\n",
    "print(f'There is a total of {users_agg_normal_score.shape[0]} recorded scores that are neither 0% nor 100%')\n",
    "\n",
    "ax = sns.histplot(data = users_agg, x = 'percentage_correct', kde = True)"
   ]
  },
  {
   "cell_type": "code",
   "execution_count": 580,
   "id": "628b91d7-cc0a-4337-b88a-87c25dbdc61e",
   "metadata": {},
   "outputs": [
    {
     "data": {
      "text/plain": [
       "<AxesSubplot:xlabel='percentage_correct', ylabel='Count'>"
      ]
     },
     "execution_count": 580,
     "metadata": {},
     "output_type": "execute_result"
    },
    {
     "data": {
      "image/png": "[encoded data removed]",
      "text/plain": [
       "<Figure size 432x288 with 1 Axes>"
      ]
     },
     "metadata": {
      "needs_background": "light"
     },
     "output_type": "display_data"
    }
   ],
   "source": [
    "sns.histplot(data = users_agg_normal_score, x = 'percentage_correct', kde = True)"
   ]
  },
  {
   "cell_type": "code",
   "execution_count": 568,
   "id": "d584c508-de6c-4f3f-95ea-907a6cbe9300",
   "metadata": {},
   "outputs": [
    {
     "name": "stdout",
     "output_type": "stream",
     "text": [
      "There are a total of 97 non-nan datapoints\n"
     ]
    },
    {
     "data": {
      "image/png": "[encoded data removed]",
      "text/plain": [
       "<Figure size 432x288 with 1 Axes>"
      ]
     },
     "metadata": {
      "needs_background": "light"
     },
     "output_type": "display_data"
    }
   ],
   "source": [
    "print(f'There are a total of {users_agg[users_agg.num_reading >= 0].shape[0]} non-nan datapoints')\n",
    "\n",
    "ax = sns.histplot(data = users_agg, x = 'num_reading')"
   ]
  },
  {
   "cell_type": "markdown",
   "id": "da9e7a90-47b5-4c5c-8d3f-10e8c8078009",
   "metadata": {
    "id": "da9e7a90-47b5-4c5c-8d3f-10e8c8078009"
   },
   "source": [
    "Let's look at the plot in detail and check for anomalies:\n",
    "\n",
    "- `gender`: nothing suspicious, we are dealing with a dataset w/ 60% females\n",
    "- `num_questions`: looks \"somewhat\" like a normal distribution ONLY because there's a log scale on the `x` axis. We are dealing with a heavy-tailed distribution\n",
    "- `num_events`: same as `num_questions`\n",
    "- `percentage_correct`: this one is interesting. Excluding people with 0% score and 100% score (which could be bots or students answering randomly for bad scores and teachers for high scores), we have a distribution that would look like a Gaussian (except for the 50% spike). Without excluding these people, we are looking at a distribution with 3 anomalies (0%, 50%, and 100%)\n",
    "- `num_reading`: this one is unusual. Very few students are using this functionality (go to theory) and thus we have very few datapoints (97 in total). We cannot thus have a good representation of the distribution with such low numbers"
   ]
  },
  {
   "cell_type": "markdown",
   "id": "e5d52cd8-9927-401b-a3c3-a4ab2e46b445",
   "metadata": {
    "id": "e5d52cd8-9927-401b-a3c3-a4ab2e46b445"
   },
   "source": [
    "c) Come up with two additional features on your own and add them to the dataframe. Please provide an explanation/description of your features as well as an argument/hypothesis of why you think these features are interesting to explore."
   ]
  },
  {
   "cell_type": "markdown",
   "id": "ddb9652c-3478-4d9b-aaa1-a0f5f92cfec3",
   "metadata": {
    "id": "0b374606-91f5-45b0-bb31-03d494fa5c69"
   },
   "source": [
    "I will add two new features: `answer_time` & `num_visits`:\n",
    "- `answer_time`: average time the student takes to answer the questions\n",
    "- `num_visits`: number of times the student visited the platform"
   ]
  },
  {
   "cell_type": "markdown",
   "id": "c8389466-db44-4364-af6f-332513ce85d5",
   "metadata": {},
   "source": [
    "First, I need to get rid of transactions with missing start or end time"
   ]
  },
  {
   "cell_type": "code",
   "execution_count": 590,
   "id": "bb7d803b-6011-4eda-b510-29a03c32be88",
   "metadata": {},
   "outputs": [
    {
     "name": "stdout",
     "output_type": "stream",
     "text": [
      "Kept 70.98% of the transactions\n"
     ]
    }
   ],
   "source": [
    "transactions_timed = transactions[transactions.commit_time > 0]\n",
    "transactions_timed = transactions_timed[transactions_timed.start_time > 0]\n",
    "\n",
    "print(f'Kept {transactions_timed.shape[0] / transactions.shape[0] * 100:.2f}% of the transactions')"
   ]
  },
  {
   "cell_type": "code",
   "execution_count": 596,
   "id": "37e5f18e-e526-4451-89f5-94fb5d24462c",
   "metadata": {},
   "outputs": [],
   "source": [
    "transactions_timed['answer_time'] = transactions_timed['commit_time'] - transactions_timed['start_time']"
   ]
  },
  {
   "cell_type": "code",
   "execution_count": 606,
   "id": "2e99ea7d-8184-43ed-846d-5f58298fd1d0",
   "metadata": {},
   "outputs": [],
   "source": [
    "transactions_timed_per_user = transactions_timed[['user_id', 'answer_time']].groupby('user_id').agg('mean')"
   ]
  },
  {
   "cell_type": "code",
   "execution_count": 607,
   "id": "ca75d157-163f-49aa-aa84-ea1b7e302ad4",
   "metadata": {},
   "outputs": [],
   "source": [
    "users_agg = users_agg.join(transactions_timed_per_user, on = 'user_id')"
   ]
  },
  {
   "cell_type": "markdown",
   "id": "bf6c3e25-e49f-45bb-be6d-7ef39e9826c9",
   "metadata": {},
   "source": [
    "---"
   ]
  },
  {
   "cell_type": "code",
   "execution_count": 629,
   "id": "96fd7657-9ff5-43a4-ad12-ec22e2b90083",
   "metadata": {},
   "outputs": [
    {
     "name": "stdout",
     "output_type": "stream",
     "text": [
      "Kept 37.69% of the events\n"
     ]
    }
   ],
   "source": [
    "events_session = events[events.session_id > 0][['user_id', 'session_id']]\n",
    "\n",
    "print(f'Kept {events_session.shape[0] / events.shape[0] * 100:.2f}% of the events')"
   ]
  },
  {
   "cell_type": "code",
   "execution_count": 630,
   "id": "4a0d0b97-f530-4c54-8cfd-48061512cf46",
   "metadata": {},
   "outputs": [],
   "source": [
    "events_session = events_session.drop_duplicates() # keeping only one (uid, ssid) tuple"
   ]
  },
  {
   "cell_type": "code",
   "execution_count": 632,
   "id": "898f2a00-4a11-442f-bda3-f321ce505251",
   "metadata": {},
   "outputs": [],
   "source": [
    "events_session_per_user = events_session.groupby('user_id').agg('count')\n",
    "events_session_per_user = events_session_per_user.rename(columns = {\"session_id\": \"num_visits\"})"
   ]
  },
  {
   "cell_type": "code",
   "execution_count": 634,
   "id": "9aace266-bac9-49b2-b200-a17b71b4a2f2",
   "metadata": {},
   "outputs": [],
   "source": [
    "users_agg = users_agg.join(events_session_per_user, on = 'user_id')"
   ]
  },
  {
   "cell_type": "markdown",
   "id": "9fa1d96e-82ad-4b74-90bc-d011f432f569",
   "metadata": {},
   "source": [
    "Let's now look at the result:"
   ]
  },
  {
   "cell_type": "code",
   "execution_count": 635,
   "id": "d9349e8c-0939-4857-9b74-199da11e2f11",
   "metadata": {},
   "outputs": [
    {
     "data": {
      "text/html": [
       "<div>\n",
       "<style scoped>\n",
       "    .dataframe tbody tr th:only-of-type {\n",
       "        vertical-align: middle;\n",
       "    }\n",
       "\n",
       "    .dataframe tbody tr th {\n",
       "        vertical-align: top;\n",
       "    }\n",
       "\n",
       "    .dataframe thead th {\n",
       "        text-align: right;\n",
       "    }\n",
       "</style>\n",
       "<table border=\"1\" class=\"dataframe\">\n",
       "  <thead>\n",
       "    <tr style=\"text-align: right;\">\n",
       "      <th></th>\n",
       "      <th>gender</th>\n",
       "      <th>num_questions</th>\n",
       "      <th>num_events</th>\n",
       "      <th>percentage_correct</th>\n",
       "      <th>num_reading</th>\n",
       "      <th>answer_time</th>\n",
       "      <th>num_visits</th>\n",
       "    </tr>\n",
       "    <tr>\n",
       "      <th>user_id</th>\n",
       "      <th></th>\n",
       "      <th></th>\n",
       "      <th></th>\n",
       "      <th></th>\n",
       "      <th></th>\n",
       "      <th></th>\n",
       "      <th></th>\n",
       "    </tr>\n",
       "  </thead>\n",
       "  <tbody>\n",
       "    <tr>\n",
       "      <th>387604</th>\n",
       "      <td>NaN</td>\n",
       "      <td>97.0</td>\n",
       "      <td>2606.0</td>\n",
       "      <td>0.536082</td>\n",
       "      <td>NaN</td>\n",
       "      <td>9.978827e+07</td>\n",
       "      <td>38.0</td>\n",
       "    </tr>\n",
       "    <tr>\n",
       "      <th>387605</th>\n",
       "      <td>NaN</td>\n",
       "      <td>217.0</td>\n",
       "      <td>3331.0</td>\n",
       "      <td>0.548387</td>\n",
       "      <td>1.0</td>\n",
       "      <td>8.368417e+06</td>\n",
       "      <td>60.0</td>\n",
       "    </tr>\n",
       "    <tr>\n",
       "      <th>387608</th>\n",
       "      <td>NaN</td>\n",
       "      <td>54.0</td>\n",
       "      <td>866.0</td>\n",
       "      <td>0.851852</td>\n",
       "      <td>NaN</td>\n",
       "      <td>5.122830e+06</td>\n",
       "      <td>7.0</td>\n",
       "    </tr>\n",
       "    <tr>\n",
       "      <th>387615</th>\n",
       "      <td>MALE</td>\n",
       "      <td>15.0</td>\n",
       "      <td>492.0</td>\n",
       "      <td>0.833333</td>\n",
       "      <td>NaN</td>\n",
       "      <td>8.119302e+07</td>\n",
       "      <td>2.0</td>\n",
       "    </tr>\n",
       "    <tr>\n",
       "      <th>387643</th>\n",
       "      <td>NaN</td>\n",
       "      <td>NaN</td>\n",
       "      <td>4.0</td>\n",
       "      <td>NaN</td>\n",
       "      <td>NaN</td>\n",
       "      <td>1.215500e+08</td>\n",
       "      <td>NaN</td>\n",
       "    </tr>\n",
       "  </tbody>\n",
       "</table>\n",
       "</div>"
      ],
      "text/plain": [
       "        gender  num_questions  num_events  percentage_correct  num_reading  \\\n",
       "user_id                                                                      \n",
       "387604     NaN           97.0      2606.0            0.536082          NaN   \n",
       "387605     NaN          217.0      3331.0            0.548387          1.0   \n",
       "387608     NaN           54.0       866.0            0.851852          NaN   \n",
       "387615    MALE           15.0       492.0            0.833333          NaN   \n",
       "387643     NaN            NaN         4.0                 NaN          NaN   \n",
       "\n",
       "          answer_time  num_visits  \n",
       "user_id                            \n",
       "387604   9.978827e+07        38.0  \n",
       "387605   8.368417e+06        60.0  \n",
       "387608   5.122830e+06         7.0  \n",
       "387615   8.119302e+07         2.0  \n",
       "387643   1.215500e+08         NaN  "
      ]
     },
     "execution_count": 635,
     "metadata": {},
     "output_type": "execute_result"
    }
   ],
   "source": [
    "users_agg.head()"
   ]
  },
  {
   "cell_type": "markdown",
   "id": "6ae3bd87-8ca4-47a2-afc5-604e6ca53621",
   "metadata": {
    "id": "6ae3bd87-8ca4-47a2-afc5-604e6ca53621"
   },
   "source": [
    "(See above for a full feature description)\n",
    "\n",
    "The two features are interesting to explore for these reasons:\n",
    "- `answer_time`: I expect a bimodal distribution (some people answer very fast, and most of the people slower)\n",
    "- `num_visits`: I expect an \"anomaly\" at 1 visit (peak) and then a steady decline"
   ]
  },
  {
   "cell_type": "markdown",
   "id": "be9b49ce-5fb6-4b95-9b64-8a6648e42474",
   "metadata": {
    "id": "be9b49ce-5fb6-4b95-9b64-8a6648e42474"
   },
   "source": [
    "d) Perform a univariate analysis of your features (including descriptive statistics and visualization). What can you observe? Do the results confirm your hypotheses?"
   ]
  },
  {
   "cell_type": "code",
   "execution_count": 645,
   "id": "bf5136a1-4715-4bd6-a94a-1998ffb2dcc7",
   "metadata": {
    "id": "bf5136a1-4715-4bd6-a94a-1998ffb2dcc7"
   },
   "outputs": [
    {
     "data": {
      "text/html": [
       "<div>\n",
       "<style scoped>\n",
       "    .dataframe tbody tr th:only-of-type {\n",
       "        vertical-align: middle;\n",
       "    }\n",
       "\n",
       "    .dataframe tbody tr th {\n",
       "        vertical-align: top;\n",
       "    }\n",
       "\n",
       "    .dataframe thead th {\n",
       "        text-align: right;\n",
       "    }\n",
       "</style>\n",
       "<table border=\"1\" class=\"dataframe\">\n",
       "  <thead>\n",
       "    <tr style=\"text-align: right;\">\n",
       "      <th></th>\n",
       "      <th>answer_time</th>\n",
       "      <th>num_visits</th>\n",
       "    </tr>\n",
       "  </thead>\n",
       "  <tbody>\n",
       "    <tr>\n",
       "      <th>count</th>\n",
       "      <td>1.028200e+04</td>\n",
       "      <td>7878.000000</td>\n",
       "    </tr>\n",
       "    <tr>\n",
       "      <th>mean</th>\n",
       "      <td>2.024277e+07</td>\n",
       "      <td>9.872049</td>\n",
       "    </tr>\n",
       "    <tr>\n",
       "      <th>std</th>\n",
       "      <td>1.576585e+08</td>\n",
       "      <td>17.474271</td>\n",
       "    </tr>\n",
       "    <tr>\n",
       "      <th>min</th>\n",
       "      <td>1.803500e+03</td>\n",
       "      <td>1.000000</td>\n",
       "    </tr>\n",
       "    <tr>\n",
       "      <th>25%</th>\n",
       "      <td>5.268510e+04</td>\n",
       "      <td>2.000000</td>\n",
       "    </tr>\n",
       "    <tr>\n",
       "      <th>50%</th>\n",
       "      <td>9.226326e+04</td>\n",
       "      <td>5.000000</td>\n",
       "    </tr>\n",
       "    <tr>\n",
       "      <th>75%</th>\n",
       "      <td>3.346048e+05</td>\n",
       "      <td>10.000000</td>\n",
       "    </tr>\n",
       "    <tr>\n",
       "      <th>max</th>\n",
       "      <td>6.557968e+09</td>\n",
       "      <td>244.000000</td>\n",
       "    </tr>\n",
       "  </tbody>\n",
       "</table>\n",
       "</div>"
      ],
      "text/plain": [
       "        answer_time   num_visits\n",
       "count  1.028200e+04  7878.000000\n",
       "mean   2.024277e+07     9.872049\n",
       "std    1.576585e+08    17.474271\n",
       "min    1.803500e+03     1.000000\n",
       "25%    5.268510e+04     2.000000\n",
       "50%    9.226326e+04     5.000000\n",
       "75%    3.346048e+05    10.000000\n",
       "max    6.557968e+09   244.000000"
      ]
     },
     "execution_count": 645,
     "metadata": {},
     "output_type": "execute_result"
    }
   ],
   "source": [
    "users_agg[['answer_time', 'num_visits']].describe()"
   ]
  },
  {
   "cell_type": "code",
   "execution_count": 641,
   "id": "26cff3ba-6b4a-4787-b6b7-62b539af75a2",
   "metadata": {},
   "outputs": [
    {
     "data": {
      "image/png": "[encoded data removed]",
      "text/plain": [
       "<Figure size 432x288 with 1 Axes>"
      ]
     },
     "metadata": {
      "needs_background": "light"
     },
     "output_type": "display_data"
    }
   ],
   "source": [
    "ax = sns.histplot(data = users_agg, x = 'answer_time', kde = True, log_scale = True)"
   ]
  },
  {
   "cell_type": "code",
   "execution_count": 640,
   "id": "6e51710b-90e8-4c32-a33f-6eeb39e1d734",
   "metadata": {},
   "outputs": [
    {
     "data": {
      "image/png": "[encoded data removed]",
      "text/plain": [
       "<Figure size 432x288 with 1 Axes>"
      ]
     },
     "metadata": {
      "needs_background": "light"
     },
     "output_type": "display_data"
    }
   ],
   "source": [
    "ax = sns.histplot(data = users_agg, x = 'num_visits', kde = True, log_scale = True)"
   ]
  },
  {
   "cell_type": "markdown",
   "id": "c58dbf72-c113-45b4-bc4c-d12a6c32f1ab",
   "metadata": {},
   "source": [
    "Regarding the `num_visits`, my hypothese is confirmed! We indeed observe a peak at 1 visit, and then a steady decline (keep in mind the log scale)\n",
    "\n",
    "Regarding the average answer time `answer_time`, It is not at all what I expected! In reality, we observe most people answering in a \"normal\" amount of time ($~10^5$ here) and some people being slower"
   ]
  },
  {
   "cell_type": "markdown",
   "id": "1596debf-793b-4d94-a0eb-4fc42a1f962d",
   "metadata": {
    "id": "1596debf-793b-4d94-a0eb-4fc42a1f962d"
   },
   "source": [
    "e) Perform a multivariate analysis for two pairs of features of your choice. Please provide a metric and a visualization for both pairs. Please discuss: why did you choose these two pairs? What was your hypothesis? Do the results confirm your hypothesis?"
   ]
  },
  {
   "cell_type": "markdown",
   "id": "b29468ae-7686-461f-bc80-96da9943ec95",
   "metadata": {},
   "source": [
    "Let's first take a look at the possible relation between the number of questions answered and the percentage of correct answers. We may expect that students with higher number of questions answered get higher percentage of correct answers (since they trained for longer)"
   ]
  },
  {
   "cell_type": "code",
   "execution_count": 669,
   "id": "5f0d7a90-b6e0-4915-8468-55092c37b6cd",
   "metadata": {},
   "outputs": [
    {
     "name": "stdout",
     "output_type": "stream",
     "text": [
      "Linear correlation of coefficient 0.14158 with p-value = 1.0087130776707611e-41\n"
     ]
    }
   ],
   "source": [
    "users_agg_no_nan = users_agg[users_agg.num_questions >= 0]\n",
    "\n",
    "r, p = stats.pearsonr(users_agg_no_nan['num_questions'], users_agg_no_nan['percentage_correct'])\n",
    "\n",
    "print(f'Linear correlation of coefficient {r:.5f} with p-value = {p}')"
   ]
  },
  {
   "cell_type": "code",
   "execution_count": 657,
   "id": "3587707c-2bd2-4085-a330-49a842cc84bd",
   "metadata": {},
   "outputs": [
    {
     "data": {
      "text/plain": [
       "<AxesSubplot:xlabel='num_questions', ylabel='percentage_correct'>"
      ]
     },
     "execution_count": 657,
     "metadata": {},
     "output_type": "execute_result"
    },
    {
     "data": {
      "image/png": "[encoded data removed]",
      "text/plain": [
       "<Figure size 432x288 with 1 Axes>"
      ]
     },
     "metadata": {
      "needs_background": "light"
     },
     "output_type": "display_data"
    }
   ],
   "source": [
    "sns.scatterplot(data = users_agg, x = 'num_questions', y = 'percentage_correct', hue = 'gender')"
   ]
  },
  {
   "cell_type": "markdown",
   "id": "793ddf49-e5e1-42b6-a102-6709167f3237",
   "metadata": {},
   "source": [
    "It looks like (eyeballed) we are approching a rate of 2 questions correct out of 3 (66.6%). There's a very small linear correlation (as we can clearly see in the scatterplot)\n",
    "\n",
    "BONUS: Additionally, there does not seem to be any difference induced by gender"
   ]
  },
  {
   "cell_type": "markdown",
   "id": "2c9b36c7-4128-40c0-a81b-ed29f9d71e82",
   "metadata": {},
   "source": [
    "---"
   ]
  },
  {
   "cell_type": "markdown",
   "id": "26967b5f-a5c8-4106-9e75-ee31ea8405e1",
   "metadata": {},
   "source": [
    "A more simplistic comparaison could be between the number of questions answered and the amount of events produced"
   ]
  },
  {
   "cell_type": "code",
   "execution_count": 668,
   "id": "8a858d13-893b-4cc1-ad45-8fbb7d9fcf64",
   "metadata": {},
   "outputs": [
    {
     "name": "stdout",
     "output_type": "stream",
     "text": [
      "Linear correlation of coefficient 0.93401 with p-value = 0.0\n"
     ]
    }
   ],
   "source": [
    "users_agg_no_nan = users_agg[users_agg.num_questions >= 0]\n",
    "users_agg_no_nan = users_agg_no_nan[users_agg_no_nan.num_events >= 0]\n",
    "\n",
    "r, p = stats.pearsonr(users_agg_no_nan['num_questions'], users_agg_no_nan['num_events'])\n",
    "\n",
    "print(f'Linear correlation of coefficient {r:.5f} with p-value = {p}')"
   ]
  },
  {
   "cell_type": "code",
   "execution_count": 661,
   "id": "c1c568ca-5e06-4d28-8c8f-c590eeb66fd5",
   "metadata": {},
   "outputs": [
    {
     "data": {
      "text/plain": [
       "<AxesSubplot:xlabel='num_questions', ylabel='num_events'>"
      ]
     },
     "execution_count": 661,
     "metadata": {},
     "output_type": "execute_result"
    },
    {
     "data": {
      "image/png": "[encoded data removed]",
      "text/plain": [
       "<Figure size 432x288 with 1 Axes>"
      ]
     },
     "metadata": {
      "needs_background": "light"
     },
     "output_type": "display_data"
    }
   ],
   "source": [
    "sns.scatterplot(data = users_agg, x = 'num_questions', y = 'num_events')"
   ]
  },
  {
   "cell_type": "markdown",
   "id": "5616dbe6-f7c3-4003-b239-9c61d2aa9815",
   "metadata": {},
   "source": [
    "As expected, there seems to be a strong linear correlation between the two features (which is expected since the more questions you answer, the more events you produce). This is backed up by a pearson coefficient of 0.93 with *very* small p-value"
   ]
  },
  {
   "cell_type": "markdown",
   "id": "62ef2063-f2b2-4a0b-92a6-1e03e9e6e548",
   "metadata": {
    "id": "62ef2063-f2b2-4a0b-92a6-1e03e9e6e548"
   },
   "source": [
    "# Task 3: Time-Series Analysis\n",
    "\n",
    "In the last task, you will perform a time-series analysis."
   ]
  },
  {
   "cell_type": "markdown",
   "id": "1a986033-693c-4db0-8b27-c638b4bf6248",
   "metadata": {
    "id": "1a986033-693c-4db0-8b27-c638b4bf6248"
   },
   "source": [
    "\n",
    "#### a) Build a data frame containing one row per user per week:\n",
    "\n",
    "``[user_id, week, num_events, num_questions, percentage_correct, num_reading]``\n",
    "\n",
    "\n",
    "The features are defined as follows:\n",
    "\n",
    "- **num_questions**: total number of questions the student answered **per week**(hint: action event = submit answer).\n",
    "\n",
    "- **num_events**: total number of events of the student per week.\n",
    "\n",
    "- **percentage_correct**: number of correct answers/total number of answers  **per week** (hint: evaluation = correct). If desired, you may assign a weight of 0.5 to partially correct answers.\n",
    "\n",
    "- **num_reading**: total number of theory reading events **per week** (hint: action event = go to theory).\n",
    "\n",
    "Where week 0 is the first week the specific user solved a task in the platform, i.e., the user's earliest entry in the transactions table.\n",
    "\n",
    "Hint: You may extract the week of the year (dt.week) from the timestamps. "
   ]
  },
  {
   "cell_type": "markdown",
   "id": "549820bd-d886-433f-8055-52f40e3381ad",
   "metadata": {
    "id": "549820bd-d886-433f-8055-52f40e3381ad"
   },
   "source": [
    "You can limit the number of weeks to 13, i.e. for each user we just look at the first 13 weeks of data.\n",
    "Yoy may change and justify your choice for the number of weeks."
   ]
  },
  {
   "cell_type": "code",
   "execution_count": 819,
   "id": "6557c5dd-0462-4da1-bf44-68612c805d4e",
   "metadata": {},
   "outputs": [],
   "source": [
    "df_weekly = events[['user_id', 'action', 'timestamp', 'transaction_token']].copy()\n",
    "df_weekly = df_weekly.sort_values(by = ['user_id', 'timestamp'])\n",
    "\n",
    "df_weekly['num_questions'] = df_weekly['action'] == 'SUBMIT_ANSWER' # true iff action is submit answer\n",
    "df_weekly['num_reading'] = df_weekly['action'] == 'GO_TO_SESSION'   # true iff action is go to session\n",
    "df_weekly['num_events'] = 1"
   ]
  },
  {
   "cell_type": "code",
   "execution_count": 820,
   "id": "b6bcd044-96d6-46fa-a31f-c559661a9570",
   "metadata": {},
   "outputs": [],
   "source": [
    "# Join the evaluations from the transactions table\n",
    "df_weekly = df_weekly.join(\n",
    "    transactions[['transaction_token', 'evaluation']].copy().set_index('transaction_token'), \n",
    "    on = 'transaction_token'\n",
    ")"
   ]
  },
  {
   "cell_type": "code",
   "execution_count": 821,
   "id": "ddb81287-b054-45f8-bb03-4efd6eb0de1e",
   "metadata": {},
   "outputs": [],
   "source": [
    "# Convert the timestamp to the absolute week number (from 1st january 1970)\n",
    "df_weekly['week_epoch'] = df_weekly['timestamp'] // (1000 * 3600 * 24 * 7)"
   ]
  },
  {
   "cell_type": "code",
   "execution_count": 822,
   "id": "72252fbc-cc57-4d4c-901d-bf267428e6c4",
   "metadata": {},
   "outputs": [],
   "source": [
    "# Setup the initial column 'week' (which is the relative week)\n",
    "df_weekly['week'] = np.nan\n",
    "\n",
    "# Fill in the 'week' column with relative week\n",
    "last_week = -1\n",
    "last_week_epoch = -1\n",
    "\n",
    "last_uid = -1\n",
    "\n",
    "for index, row in df_weekly.iterrows():   \n",
    "    uid, week_epoch = row['user_id'], row['week_epoch']\n",
    "    \n",
    "    if uid != last_uid:\n",
    "        last_uid = uid\n",
    "        last_week = -1\n",
    "        last_week_epoch = -1\n",
    "    \n",
    "    if week_epoch > last_week_epoch:\n",
    "        last_week_epoch = week_epoch\n",
    "        last_week += 1\n",
    "\n",
    "    df_weekly.loc[index, 'week'] = last_week"
   ]
  },
  {
   "cell_type": "code",
   "execution_count": 823,
   "id": "5150854a-c78f-409b-a64e-e5616a69f996",
   "metadata": {},
   "outputs": [],
   "source": [
    "# Remove useless columns\n",
    "df_weekly = df_weekly.drop(['timestamp', 'transaction_token', 'week_epoch'], axis = 1)"
   ]
  },
  {
   "cell_type": "code",
   "execution_count": 824,
   "id": "efaab803-afab-42bf-a515-3724234157f1",
   "metadata": {},
   "outputs": [],
   "source": [
    "# Limit the users to their first 13 weeks\n",
    "df_weekly = df_weekly[df_weekly.week <= 13]"
   ]
  },
  {
   "cell_type": "code",
   "execution_count": 825,
   "id": "0c625fcd-f9b2-4fbb-a017-97d4649f42b3",
   "metadata": {},
   "outputs": [],
   "source": [
    "# Converting evaluation to points (see task 2 for more info)\n",
    "df_weekly['evaluation_points'] = df_weekly['evaluation'].apply(lambda e: evaluation_to_points(e))"
   ]
  },
  {
   "cell_type": "code",
   "execution_count": 839,
   "id": "87a3227b-e715-438a-8274-24b874126f82",
   "metadata": {},
   "outputs": [],
   "source": [
    "df_weekly = df_weekly.groupby(['user_id', 'week']).agg('sum')"
   ]
  },
  {
   "cell_type": "code",
   "execution_count": 840,
   "id": "8bf66f3e-345c-42cd-8127-c5ece33c2859",
   "metadata": {},
   "outputs": [],
   "source": [
    "# Compute the \"correct answers\" percentage based on the number of questions and the evaluation\n",
    "def compute_percentage(row):\n",
    "    if row.num_questions == 0:\n",
    "        return np.nan\n",
    "    else:\n",
    "        return row.evaluation_points / row.num_questions\n",
    "\n",
    "df_weekly['percentage_correct'] = df_weekly.apply(lambda row: compute_percentage(row), axis = 1)"
   ]
  },
  {
   "cell_type": "code",
   "execution_count": 841,
   "id": "f9f6fcaa-c58e-40b0-83b6-0c9d666b6b02",
   "metadata": {},
   "outputs": [],
   "source": [
    "df_weekly = df_weekly.reset_index()"
   ]
  },
  {
   "cell_type": "code",
   "execution_count": 842,
   "id": "e9c4a50a-cad6-4c3b-afc1-0b52fce7888f",
   "metadata": {},
   "outputs": [],
   "source": [
    "# Reorder columns\n",
    "df_weekly = df_weekly[['user_id', 'week', 'num_events', 'num_questions', 'percentage_correct', 'num_reading']]"
   ]
  },
  {
   "cell_type": "code",
   "execution_count": 843,
   "id": "63af062d-0b5d-4daa-b42b-aa8faf376208",
   "metadata": {},
   "outputs": [
    {
     "data": {
      "text/html": [
       "<div>\n",
       "<style scoped>\n",
       "    .dataframe tbody tr th:only-of-type {\n",
       "        vertical-align: middle;\n",
       "    }\n",
       "\n",
       "    .dataframe tbody tr th {\n",
       "        vertical-align: top;\n",
       "    }\n",
       "\n",
       "    .dataframe thead th {\n",
       "        text-align: right;\n",
       "    }\n",
       "</style>\n",
       "<table border=\"1\" class=\"dataframe\">\n",
       "  <thead>\n",
       "    <tr style=\"text-align: right;\">\n",
       "      <th></th>\n",
       "      <th>user_id</th>\n",
       "      <th>week</th>\n",
       "      <th>num_events</th>\n",
       "      <th>num_questions</th>\n",
       "      <th>percentage_correct</th>\n",
       "      <th>num_reading</th>\n",
       "    </tr>\n",
       "  </thead>\n",
       "  <tbody>\n",
       "    <tr>\n",
       "      <th>0</th>\n",
       "      <td>387604</td>\n",
       "      <td>0.0</td>\n",
       "      <td>1</td>\n",
       "      <td>0</td>\n",
       "      <td>NaN</td>\n",
       "      <td>0</td>\n",
       "    </tr>\n",
       "    <tr>\n",
       "      <th>1</th>\n",
       "      <td>387604</td>\n",
       "      <td>1.0</td>\n",
       "      <td>1</td>\n",
       "      <td>0</td>\n",
       "      <td>NaN</td>\n",
       "      <td>0</td>\n",
       "    </tr>\n",
       "    <tr>\n",
       "      <th>2</th>\n",
       "      <td>387604</td>\n",
       "      <td>2.0</td>\n",
       "      <td>7</td>\n",
       "      <td>0</td>\n",
       "      <td>NaN</td>\n",
       "      <td>0</td>\n",
       "    </tr>\n",
       "    <tr>\n",
       "      <th>3</th>\n",
       "      <td>387604</td>\n",
       "      <td>3.0</td>\n",
       "      <td>25</td>\n",
       "      <td>0</td>\n",
       "      <td>NaN</td>\n",
       "      <td>0</td>\n",
       "    </tr>\n",
       "    <tr>\n",
       "      <th>4</th>\n",
       "      <td>387604</td>\n",
       "      <td>4.0</td>\n",
       "      <td>12</td>\n",
       "      <td>0</td>\n",
       "      <td>NaN</td>\n",
       "      <td>0</td>\n",
       "    </tr>\n",
       "  </tbody>\n",
       "</table>\n",
       "</div>"
      ],
      "text/plain": [
       "   user_id  week  num_events  num_questions  percentage_correct  num_reading\n",
       "0   387604   0.0           1              0                 NaN            0\n",
       "1   387604   1.0           1              0                 NaN            0\n",
       "2   387604   2.0           7              0                 NaN            0\n",
       "3   387604   3.0          25              0                 NaN            0\n",
       "4   387604   4.0          12              0                 NaN            0"
      ]
     },
     "execution_count": 843,
     "metadata": {},
     "output_type": "execute_result"
    }
   ],
   "source": [
    "df_weekly.head()"
   ]
  },
  {
   "cell_type": "markdown",
   "id": "1d045819-a60e-4bdf-bdab-f09fa53c823a",
   "metadata": {
    "id": "1d045819-a60e-4bdf-bdab-f09fa53c823a"
   },
   "source": [
    "#### b) Select two features and analyze their behavior over time. Please provide a hypothesis and visualization for both features. For ideas on how to perform a time series exploration, please check the lecture slides and notebook. Discuss your results: what do you observe? Do the results confirm your hypotheses?"
   ]
  },
  {
   "cell_type": "markdown",
   "id": "93a563fb-7221-41ea-8eeb-089162663363",
   "metadata": {},
   "source": [
    "I will choose the first two features `num_events` and `num_questions`:\n",
    "- for `num_events`, I expect to have a constant amount over the weeks with a peak at the beginning (we can imagine people being very active the first week and slowly loosing interest over the weeks)\n",
    "- for `num_questions`, I expect the same thing as `num_events`. \n",
    "\n",
    "Note: I chose these two similar features (same hypotheses) because I want to see if they follow the same trend over time (e.g. some people could be answering a lot of questions at the beginning and then only browsing through the website)"
   ]
  },
  {
   "cell_type": "code",
   "execution_count": 853,
   "id": "6d95be79-1343-4253-9d07-f9ca2977457a",
   "metadata": {},
   "outputs": [
    {
     "data": {
      "text/plain": [
       "<AxesSubplot:xlabel='week', ylabel='num_events'>"
      ]
     },
     "execution_count": 853,
     "metadata": {},
     "output_type": "execute_result"
    },
    {
     "data": {
      "image/png": "[encoded data removed]",
      "text/plain": [
       "<Figure size 864x432 with 1 Axes>"
      ]
     },
     "metadata": {
      "needs_background": "light"
     },
     "output_type": "display_data"
    }
   ],
   "source": [
    "plt.figure(figsize = (12,6))\n",
    "sns.barplot(x = 'week', y = 'num_events', data = df_weekly)"
   ]
  },
  {
   "cell_type": "code",
   "execution_count": 854,
   "id": "59d34db9-d7f2-4179-99fd-1f4945270fd1",
   "metadata": {},
   "outputs": [
    {
     "data": {
      "text/plain": [
       "<AxesSubplot:xlabel='week', ylabel='num_questions'>"
      ]
     },
     "execution_count": 854,
     "metadata": {},
     "output_type": "execute_result"
    },
    {
     "data": {
      "image/png": "[encoded data removed]",
      "text/plain": [
       "<Figure size 864x432 with 1 Axes>"
      ]
     },
     "metadata": {
      "needs_background": "light"
     },
     "output_type": "display_data"
    }
   ],
   "source": [
    "plt.figure(figsize = (12,6))\n",
    "sns.barplot(x = 'week', y = 'num_questions', data = df_weekly)"
   ]
  },
  {
   "cell_type": "markdown",
   "id": "7bb7ba2c-cd6f-4b54-8005-de09acdcfc40",
   "metadata": {},
   "source": [
    "Both distribution look indeed similar! However, I was completely wrong concerning the peak at week 0. It seems that students on Learnavi are constent both with their attendance and the fact they keep answering questions instead of going the simple route of scanning the theory rapidely and wandering off."
   ]
  },
  {
   "cell_type": "markdown",
   "id": "_s7rWpaLfZGt",
   "metadata": {
    "id": "_s7rWpaLfZGt"
   },
   "source": [
    "# Task 4: Creative extension \n",
    "\n",
    "Please provide **one** new hypothesis you would like to explore with the data and provide a visualization for it. Discuss your results: what do you observe? Do the results confirm your hypotheses?\n",
    "\n"
   ]
  },
  {
   "cell_type": "markdown",
   "id": "23ddcc5e-9453-4ffb-aa9f-ee46f3a45b4b",
   "metadata": {},
   "source": [
    "Idea: compare the (average) number of questions answered by degree (`class_level`). I expect a distribution that looks like a $U$ shape, here's why:\n",
    "- for lower levels: I expect the courses to have a lot of questions (that's what is often done for children) $\\implies$ more questions solved (than middle levels)\n",
    "- for middle levels: nothing in particular (base value)\n",
    "- for higher levels: I expect people to stay/stick longer per session (than middle levels)"
   ]
  },
  {
   "cell_type": "markdown",
   "id": "78205982-b651-4147-b9a8-908bbb94a3e8",
   "metadata": {},
   "source": [
    "To reduce the graph complexity, I will only keep the top-15 most represented class levels"
   ]
  },
  {
   "cell_type": "code",
   "execution_count": 872,
   "id": "da7a4115-e7b6-4b21-96c0-62fa17b02a81",
   "metadata": {},
   "outputs": [
    {
     "data": {
      "text/plain": [
       "['Gymnasium - 1. Jahr',\n",
       " 'Gymnasium - 2. Jahr',\n",
       " 'Kurzzeitgymnasium - 1. Jahr',\n",
       " 'Langzeitgymnasium - 3. Jahr',\n",
       " 'Kurzzeitgymnasium - 2. Jahr',\n",
       " 'Gymnasium - 3. Jahr',\n",
       " 'FMS - 1. Jahr',\n",
       " 'Langzeitgymnasium - 4. Jahr',\n",
       " 'Gymnasium - 1. Jahr (GYM1)',\n",
       " 'Gymnasium - 4. Jahr',\n",
       " 'Langzeitgymnasium - 1. Jahr',\n",
       " 'Langzeitgymnasium - 2. Jahr',\n",
       " 'FMS - 3. Jahr',\n",
       " 'FMS - 2. Jahr',\n",
       " 'Kurzzeitgymnasium - 3. Jahr']"
      ]
     },
     "execution_count": 872,
     "metadata": {},
     "output_type": "execute_result"
    }
   ],
   "source": [
    "list(users.class_level.value_counts()[:15].index)"
   ]
  },
  {
   "cell_type": "code",
   "execution_count": 873,
   "id": "2b49312a-acd3-457b-9c48-79d11381d27d",
   "metadata": {},
   "outputs": [],
   "source": [
    "# I ordered the levels as best as I could (from youger to older)\n",
    "levels_ordered = [\n",
    "    'FMS - 1. Jahr',\n",
    "    'Gymnasium - 1. Jahr',\n",
    "    'Gymnasium - 1. Jahr (GYM1)',\n",
    "    'Langzeitgymnasium - 1. Jahr',\n",
    "    'FMS - 2. Jahr',\n",
    "    'Gymnasium - 2. Jahr',\n",
    "    'Langzeitgymnasium - 2. Jahr',\n",
    "    'Kurzzeitgymnasium - 1. Jahr',\n",
    "    'FMS - 3. Jahr',\n",
    "    'Gymnasium - 3. Jahr',\n",
    "    'Langzeitgymnasium - 3. Jahr',\n",
    "    'Kurzzeitgymnasium - 2. Jahr',\n",
    "    'Gymnasium - 4. Jahr',\n",
    "    'Langzeitgymnasium - 4. Jahr',\n",
    "    'Kurzzeitgymnasium - 3. Jahr'\n",
    "]"
   ]
  },
  {
   "cell_type": "code",
   "execution_count": 883,
   "id": "7d70a1e9-d41c-4380-a3d9-78f4ea0fdcfa",
   "metadata": {},
   "outputs": [
    {
     "data": {
      "text/html": [
       "<div>\n",
       "<style scoped>\n",
       "    .dataframe tbody tr th:only-of-type {\n",
       "        vertical-align: middle;\n",
       "    }\n",
       "\n",
       "    .dataframe tbody tr th {\n",
       "        vertical-align: top;\n",
       "    }\n",
       "\n",
       "    .dataframe thead th {\n",
       "        text-align: right;\n",
       "    }\n",
       "</style>\n",
       "<table border=\"1\" class=\"dataframe\">\n",
       "  <thead>\n",
       "    <tr style=\"text-align: right;\">\n",
       "      <th></th>\n",
       "      <th>num_questions</th>\n",
       "    </tr>\n",
       "    <tr>\n",
       "      <th>user_id</th>\n",
       "      <th></th>\n",
       "    </tr>\n",
       "  </thead>\n",
       "  <tbody>\n",
       "    <tr>\n",
       "      <th>387604</th>\n",
       "      <td>97</td>\n",
       "    </tr>\n",
       "    <tr>\n",
       "      <th>387605</th>\n",
       "      <td>217</td>\n",
       "    </tr>\n",
       "    <tr>\n",
       "      <th>387608</th>\n",
       "      <td>54</td>\n",
       "    </tr>\n",
       "    <tr>\n",
       "      <th>387615</th>\n",
       "      <td>15</td>\n",
       "    </tr>\n",
       "    <tr>\n",
       "      <th>387644</th>\n",
       "      <td>30</td>\n",
       "    </tr>\n",
       "  </tbody>\n",
       "</table>\n",
       "</div>"
      ],
      "text/plain": [
       "         num_questions\n",
       "user_id               \n",
       "387604              97\n",
       "387605             217\n",
       "387608              54\n",
       "387615              15\n",
       "387644              30"
      ]
     },
     "execution_count": 883,
     "metadata": {},
     "output_type": "execute_result"
    }
   ],
   "source": [
    "questions_per_user = events[events.action == 'SUBMIT_ANSWER']\n",
    "questions_per_user['num_questions'] = 1\n",
    "questions_per_user = questions_per_user[['user_id', 'num_questions']]\n",
    "questions_per_user = questions_per_user.groupby('user_id').agg('count')\n",
    "questions_per_user.head()"
   ]
  },
  {
   "cell_type": "code",
   "execution_count": 905,
   "id": "d029222b-d02f-4e20-826a-8df9218fe4dd",
   "metadata": {},
   "outputs": [
    {
     "data": {
      "text/html": [
       "<div>\n",
       "<style scoped>\n",
       "    .dataframe tbody tr th:only-of-type {\n",
       "        vertical-align: middle;\n",
       "    }\n",
       "\n",
       "    .dataframe tbody tr th {\n",
       "        vertical-align: top;\n",
       "    }\n",
       "\n",
       "    .dataframe thead th {\n",
       "        text-align: right;\n",
       "    }\n",
       "</style>\n",
       "<table border=\"1\" class=\"dataframe\">\n",
       "  <thead>\n",
       "    <tr style=\"text-align: right;\">\n",
       "      <th></th>\n",
       "      <th>class_level</th>\n",
       "      <th>num_questions</th>\n",
       "    </tr>\n",
       "  </thead>\n",
       "  <tbody>\n",
       "    <tr>\n",
       "      <th>0</th>\n",
       "      <td>FMS - 1. Jahr</td>\n",
       "      <td>41.197889</td>\n",
       "    </tr>\n",
       "    <tr>\n",
       "      <th>1</th>\n",
       "      <td>FMS - 2. Jahr</td>\n",
       "      <td>53.524064</td>\n",
       "    </tr>\n",
       "    <tr>\n",
       "      <th>2</th>\n",
       "      <td>FMS - 3. Jahr</td>\n",
       "      <td>27.879397</td>\n",
       "    </tr>\n",
       "    <tr>\n",
       "      <th>3</th>\n",
       "      <td>Gymnasium - 1. Jahr</td>\n",
       "      <td>63.353164</td>\n",
       "    </tr>\n",
       "    <tr>\n",
       "      <th>4</th>\n",
       "      <td>Gymnasium - 1. Jahr (GYM1)</td>\n",
       "      <td>36.038690</td>\n",
       "    </tr>\n",
       "  </tbody>\n",
       "</table>\n",
       "</div>"
      ],
      "text/plain": [
       "                  class_level  num_questions\n",
       "0               FMS - 1. Jahr      41.197889\n",
       "1               FMS - 2. Jahr      53.524064\n",
       "2               FMS - 3. Jahr      27.879397\n",
       "3         Gymnasium - 1. Jahr      63.353164\n",
       "4  Gymnasium - 1. Jahr (GYM1)      36.038690"
      ]
     },
     "execution_count": 905,
     "metadata": {},
     "output_type": "execute_result"
    }
   ],
   "source": [
    "users_questions = users[['user_id', 'class_level']]\n",
    "users_questions = users_questions.join(questions_per_user, on = 'user_id')\n",
    "\n",
    "# Transform people that answered no question from 'nan' to 0\n",
    "users_questions['num_questions'] = users_questions.num_questions.fillna(0)\n",
    "\n",
    "# Only keep relevant features\n",
    "users_questions = users_questions[['class_level', 'num_questions']]\n",
    "\n",
    "# Only keep top15 most represented class levels\n",
    "users_questions = users_questions[users_questions.class_level.isin(levels_ordered)]\n",
    "\n",
    "level_questions = users_questions.groupby('class_level').agg('mean')\n",
    "level_questions = level_questions.reset_index()\n",
    "level_questions.head()"
   ]
  },
  {
   "cell_type": "code",
   "execution_count": 909,
   "id": "c7755cb3-7b82-45a5-95e5-ee3099a11c55",
   "metadata": {},
   "outputs": [
    {
     "data": {
      "text/plain": [
       "<AxesSubplot:xlabel='class_level', ylabel='num_questions'>"
      ]
     },
     "execution_count": 909,
     "metadata": {},
     "output_type": "execute_result"
    },
    {
     "data": {
      "image/png": "[encoded data removed]",
      "text/plain": [
       "<Figure size 432x288 with 1 Axes>"
      ]
     },
     "metadata": {
      "needs_background": "light"
     },
     "output_type": "display_data"
    }
   ],
   "source": [
    "plt.xticks(rotation=90)\n",
    "sns.barplot(x = 'class_level', y = 'num_questions', data = level_questions, order = levels_ordered)"
   ]
  },
  {
   "cell_type": "markdown",
   "id": "f001f18f-9bc6-457c-b721-ea52e1dcb2a8",
   "metadata": {},
   "source": [
    "Well, turns out I could not be more wrong... There's absolutely no $U$ shape in the horizon and I cannot distinguish any other pattern in the graph. We may be able to find something by ordering wrt. to \"type\" of levels (e.g. FMS, then gymnasium, ...)"
   ]
  },
  {
   "cell_type": "code",
   "execution_count": 910,
   "id": "593fcd46-f75a-41df-be41-9744e2f69a07",
   "metadata": {},
   "outputs": [],
   "source": [
    "levels_separated = [\n",
    "    'FMS - 1. Jahr',\n",
    "    'FMS - 2. Jahr',\n",
    "    'FMS - 3. Jahr',\n",
    "    \n",
    "    'Kurzzeitgymnasium - 1. Jahr',\n",
    "    'Kurzzeitgymnasium - 2. Jahr',\n",
    "    'Kurzzeitgymnasium - 3. Jahr',\n",
    "    \n",
    "    'Gymnasium - 1. Jahr',\n",
    "    'Gymnasium - 2. Jahr',\n",
    "    'Gymnasium - 3. Jahr',\n",
    "    'Gymnasium - 4. Jahr',\n",
    "    \n",
    "    'Gymnasium - 1. Jahr (GYM1)',\n",
    "    \n",
    "    'Langzeitgymnasium - 1. Jahr',\n",
    "    'Langzeitgymnasium - 2. Jahr',\n",
    "    'Langzeitgymnasium - 3. Jahr',\n",
    "    'Langzeitgymnasium - 4. Jahr'\n",
    "]"
   ]
  },
  {
   "cell_type": "code",
   "execution_count": 911,
   "id": "fa0d6239-cebb-4887-89f2-9bfb76d3141f",
   "metadata": {},
   "outputs": [
    {
     "data": {
      "text/plain": [
       "<AxesSubplot:xlabel='class_level', ylabel='num_questions'>"
      ]
     },
     "execution_count": 911,
     "metadata": {},
     "output_type": "execute_result"
    },
    {
     "data": {
      "image/png": "[encoded data removed]",
      "text/plain": [
       "<Figure size 432x288 with 1 Axes>"
      ]
     },
     "metadata": {
      "needs_background": "light"
     },
     "output_type": "display_data"
    }
   ],
   "source": [
    "plt.xticks(rotation=90)\n",
    "sns.barplot(x = 'class_level', y = 'num_questions', data = level_questions, order = levels_separated)"
   ]
  },
  {
   "cell_type": "markdown",
   "id": "yTT8SklBgGxN",
   "metadata": {
    "id": "yTT8SklBgGxN"
   },
   "source": [
    "Once again, nothing particularly noteworthy"
   ]
  },
  {
   "cell_type": "code",
   "execution_count": null,
   "id": "e4819e89-a403-4da8-b42f-52b03bf32c70",
   "metadata": {},
   "outputs": [],
   "source": []
  }
 ],
 "metadata": {
  "colab": {
   "collapsed_sections": [],
   "name": "m2-lernnavi-sciper.ipynb",
   "provenance": []
  },
  "kernelspec": {
   "display_name": "Python 3 (ipykernel)",
   "language": "python",
   "name": "python3"
  },
  "language_info": {
   "codemirror_mode": {
    "name": "ipython",
    "version": 3
   },
   "file_extension": ".py",
   "mimetype": "text/x-python",
   "name": "python",
   "nbconvert_exporter": "python",
   "pygments_lexer": "ipython3",
   "version": "3.10.0"
  }
 },
 "nbformat": 4,
 "nbformat_minor": 5
}
